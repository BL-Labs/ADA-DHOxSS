{
 "cells": [
  {
   "cell_type": "markdown",
   "metadata": {},
   "source": [
    "# 2.1 Tidy data"
   ]
  },
  {
   "cell_type": "markdown",
   "metadata": {},
   "source": [
    "In this notebook, we take a closer look at the BL books dataset in view of tidying it up."
   ]
  },
  {
   "cell_type": "code",
   "execution_count": 1,
   "metadata": {},
   "outputs": [],
   "source": [
    "# imports\n",
    "\n",
    "import pandas as pd\n",
    "import json, os, codecs\n",
    "from collections import defaultdict, OrderedDict"
   ]
  },
  {
   "cell_type": "markdown",
   "metadata": {},
   "source": [
    "## Import the dataset\n",
    "Let us import the sample dataset in memory, as it is, without transformations. We rely on some Python libraries to do so."
   ]
  },
  {
   "cell_type": "code",
   "execution_count": 2,
   "metadata": {},
   "outputs": [],
   "source": [
    "root_folder = \"../data/bl_books/sample/\"\n",
    "\n",
    "# metadata\n",
    "filename = \"book_data_sample.json\"\n",
    "metadata = json.load(open(os.path.join(root_folder,filename)))\n",
    "\n",
    "# fulltexts\n",
    "foldername = \"full_texts\"\n",
    "texts = defaultdict(list)\n",
    "for root, dirs, files in os.walk(os.path.join(root_folder,foldername)):\n",
    "    for f in files:\n",
    "        if \".json\" in f:\n",
    "            t = json.load(codecs.open(os.path.join(root,f), encoding=\"utf8\"))\n",
    "            texts[f] = t\n",
    "\n",
    "# enriched metadata\n",
    "filename = \"MicrosoftBooks_filtered_list_sample.csv\"\n",
    "df_extra = pd.read_csv(os.path.join(root_folder,filename), delimiter=\";\")\n",
    "df_extra = df_extra.rename(str.lower, axis='columns') # rename columns to lower case"
   ]
  },
  {
   "cell_type": "markdown",
   "metadata": {},
   "source": [
    "## Take a look\n",
    "Let's take a look to the dataset"
   ]
  },
  {
   "cell_type": "code",
   "execution_count": 3,
   "metadata": {},
   "outputs": [
    {
     "name": "stdout",
     "output_type": "stream",
     "text": [
      "452\n"
     ]
    }
   ],
   "source": [
    "print(len(metadata))"
   ]
  },
  {
   "cell_type": "code",
   "execution_count": 4,
   "metadata": {},
   "outputs": [
    {
     "data": {
      "text/plain": [
       "{'datefield': '1841',\n",
       " 'shelfmarks': ['British Library HMNTS 11601.ddd.2.'],\n",
       " 'publisher': 'Privately printed',\n",
       " 'title': [\"The Poetical Aviary, with a bird's-eye view of the English poets. [The preface signed: A. A.] Ms. notes\"],\n",
       " 'edition': '',\n",
       " 'flickr_url_to_book_images': 'http://www.flickr.com/photos/britishlibrary/tags/sysnum000000196',\n",
       " 'place': 'Calcutta',\n",
       " 'issuance': 'monographic',\n",
       " 'authors': {'creator': ['A. A.']},\n",
       " 'date': '1841',\n",
       " 'pdf': {'1': 'lsidyv35c55757'},\n",
       " 'identifier': '000000196',\n",
       " 'corporate': {},\n",
       " 'fulltext_filename': 'sample/full_texts/000000196_01_text.json'}"
      ]
     },
     "execution_count": 4,
     "metadata": {},
     "output_type": "execute_result"
    }
   ],
   "source": [
    "metadata[0]"
   ]
  },
  {
   "cell_type": "markdown",
   "metadata": {},
   "source": [
    "Questions on 'metadata':\n",
    "\n",
    "* Can you identify some messy aspects of this dataset representation?\n",
    "* Take a look at the 'shelfmarks' or 'title' fields: what is the problem here?\n",
    "* Do the same for the 'authors' and 'pdf' fields: what is the problem?\n",
    "* Look at the datefield of the *third* item in this list: is there a problem?"
   ]
  },
  {
   "cell_type": "code",
   "execution_count": 5,
   "metadata": {},
   "outputs": [
    {
     "name": "stdout",
     "output_type": "stream",
     "text": [
      "452\n"
     ]
    }
   ],
   "source": [
    "print(len(texts))"
   ]
  },
  {
   "cell_type": "markdown",
   "metadata": {},
   "source": [
    "*Note: we have selected for the sample just the first volume/pdf for every book.*"
   ]
  },
  {
   "cell_type": "code",
   "execution_count": 6,
   "metadata": {},
   "outputs": [
    {
     "data": {
      "text/plain": [
       "[[1, ''],\n",
       " [2, ''],\n",
       " [3, ''],\n",
       " [4, ''],\n",
       " [5, ''],\n",
       " [6, ''],\n",
       " [7,\n",
       "  \"THE POETICAL AVIARY, WITH A B I R D'S-E YE VIEW OF THE ENGLISH POETS. (NOT PUBLISHED.) CALCUTTA: PRINTED AT THE BAPTIST MISSION PRESS, CIRCULAR ROAD. 1841.\"],\n",
       " [8, ''],\n",
       " [9,\n",
       "  'POETICAL AVIARY. PART THE FIRST. BIRDS WITHOUT ALLUSION TO THEIR NOTES. One of the curious political medals that were struck in the reign of Charles II. represents, on one side, Titus Oates with two faces. On the reverse are the heads of the king and four of his principal ministers, with this motto round the border, \" Birds of a feather flock together.\" This, as well as various other proverbs derived from birds, haee been introduced into poetry. Thus Anstey — And \\'twas pretty to see how like birds of a feather The people of quality flocked all together, All pressing, addressing, caressing, and fond, Just the same as those animals do in a pond. Under the sign of an inn representing a man with a bird in his hand, and two birds in a bush I have seen written, \" A bird in the hand\" d\\'ye see , Is worth two in the bushes that be. These verses under signs are now a rarity in England ; they were formerly more common. Swift, speaking of Harley, Earl of Oxford, the prime minister, says — Would take me in his coach to chat, And question me of this or that ; Or gravely try to read the lines Writ underneath the country signs. ii']]"
      ]
     },
     "execution_count": 6,
     "metadata": {},
     "output_type": "execute_result"
    }
   ],
   "source": [
    "texts['000000196_01_text.json'][:9]"
   ]
  },
  {
   "cell_type": "code",
   "execution_count": 7,
   "metadata": {},
   "outputs": [
    {
     "data": {
      "text/html": [
       "<div>\n",
       "<style scoped>\n",
       "    .dataframe tbody tr th:only-of-type {\n",
       "        vertical-align: middle;\n",
       "    }\n",
       "\n",
       "    .dataframe tbody tr th {\n",
       "        vertical-align: top;\n",
       "    }\n",
       "\n",
       "    .dataframe thead th {\n",
       "        text-align: right;\n",
       "    }\n",
       "</style>\n",
       "<table border=\"1\" class=\"dataframe\">\n",
       "  <thead>\n",
       "    <tr style=\"text-align: right;\">\n",
       "      <th></th>\n",
       "      <th>aleph system no.</th>\n",
       "      <th>country code</th>\n",
       "      <th>language code (008)</th>\n",
       "      <th>language code (041)</th>\n",
       "      <th>ddc</th>\n",
       "      <th>personal author</th>\n",
       "      <th>corporate author</th>\n",
       "      <th>title</th>\n",
       "      <th>edition</th>\n",
       "      <th>imprint</th>\n",
       "      <th>series</th>\n",
       "      <th>subjects</th>\n",
       "      <th>other personal authors</th>\n",
       "      <th>other corporate authors</th>\n",
       "      <th>dom id</th>\n",
       "      <th>type</th>\n",
       "      <th>genre</th>\n",
       "      <th>first_pdf</th>\n",
       "    </tr>\n",
       "  </thead>\n",
       "  <tbody>\n",
       "    <tr>\n",
       "      <th>234</th>\n",
       "      <td>14846757</td>\n",
       "      <td>|||</td>\n",
       "      <td>eng</td>\n",
       "      <td>NaN</td>\n",
       "      <td>NaN</td>\n",
       "      <td>A. A.</td>\n",
       "      <td>NaN</td>\n",
       "      <td>The Poetical Aviary, with a bird's-eye view of...</td>\n",
       "      <td>NaN</td>\n",
       "      <td>Calcutta : Privately printed, 1841.</td>\n",
       "      <td>NaN</td>\n",
       "      <td>NaN</td>\n",
       "      <td>NaN</td>\n",
       "      <td>NaN</td>\n",
       "      <td>lsidyv35c55757</td>\n",
       "      <td>poet</td>\n",
       "      <td>Poetry</td>\n",
       "      <td>lsidyv35c55757</td>\n",
       "    </tr>\n",
       "  </tbody>\n",
       "</table>\n",
       "</div>"
      ],
      "text/plain": [
       "     aleph system no. country code language code (008) language code (041)  \\\n",
       "234          14846757          |||                 eng                 NaN   \n",
       "\n",
       "     ddc personal author corporate author  \\\n",
       "234  NaN           A. A.              NaN   \n",
       "\n",
       "                                                 title edition  \\\n",
       "234  The Poetical Aviary, with a bird's-eye view of...     NaN   \n",
       "\n",
       "                                 imprint series subjects  \\\n",
       "234  Calcutta : Privately printed, 1841.    NaN      NaN   \n",
       "\n",
       "    other personal authors  other corporate authors          dom id  type  \\\n",
       "234                    NaN                      NaN  lsidyv35c55757  poet   \n",
       "\n",
       "      genre       first_pdf  \n",
       "234  Poetry  lsidyv35c55757  "
      ]
     },
     "execution_count": 7,
     "metadata": {},
     "output_type": "execute_result"
    }
   ],
   "source": [
    "df_extra[df_extra[\"first_pdf\"] == \"lsidyv35c55757\"]"
   ]
  },
  {
   "cell_type": "markdown",
   "metadata": {},
   "source": [
    "Question: explore this data frame and find examples of messy aspects."
   ]
  },
  {
   "cell_type": "code",
   "execution_count": 8,
   "metadata": {},
   "outputs": [],
   "source": [
    "# Create data frames for all datasets\n",
    "# We drop some variables we don't need at this stage\n",
    "\n",
    "# metadata\n",
    "datefield = list() # '1841'\n",
    "publisher = list() # 'Privately printed',\n",
    "title = list() # [\"The Poetical Aviary, with a bird's-eye view of the English poets. [The preface signed: A. A.] Ms. notes\"]\n",
    "edition = list() # ''\n",
    "place = list() # 'Calcutta'\n",
    "issuance = list() # 'monographic'\n",
    "authors = list() # {'creator': ['A. A.']}\n",
    "first_pdf = list() # {'1': 'lsidyv35c55757'}\n",
    "number_volumes = list()\n",
    "identifier = list() # '000000196'\n",
    "fulltext_filename = list() # 'sample/full_texts/000000196_01_text.json'\n",
    "for book in metadata:\n",
    "    if book[\"date\"]:\n",
    "        datefield.append(int(book[\"date\"][:4]))\n",
    "    else:\n",
    "        datefield.append(None)\n",
    "    publisher.append(book[\"publisher\"])\n",
    "    title.append(book[\"title\"][0])\n",
    "    edition.append(book[\"edition\"])\n",
    "    place.append(book[\"place\"])\n",
    "    issuance.append(book[\"issuance\"])\n",
    "    if \"creator\" in book[\"authors\"].keys():\n",
    "        authors.append(book[\"authors\"][\"creator\"]) # this is a list!\n",
    "    else:\n",
    "        authors.append([''])\n",
    "    first_pdf.append(book[\"pdf\"][\"1\"])\n",
    "    number_volumes.append(len(book[\"pdf\"]))\n",
    "    identifier.append(book[\"identifier\"])\n",
    "    fulltext_filename.append(book[\"fulltext_filename\"].split(\"/\")[-1])\n",
    "df_meta = pd.DataFrame.from_dict({\"datefield\": datefield, \"publisher\": publisher,\n",
    "                                 \"title\": title, \"edition\": edition, \"place\": place,\n",
    "                                 \"issuance\": issuance, \"authors\": authors, \"first_pdf\": first_pdf,\n",
    "                                 \"number_volumes\": number_volumes, \"identifier\": identifier,\n",
    "                                 \"fulltext_filename\": fulltext_filename})\n",
    "\n",
    "# texts\n",
    "how_many_lines = 200 # we reduce the amount of text to the first n lines, to make it faster to play with it\n",
    "fulltext_filename = list()\n",
    "fulltext = list()\n",
    "for f,t in texts.items():\n",
    "    fulltext_filename.append(f)\n",
    "    text = \" \".join([line[1][:how_many_lines] for line in t])\n",
    "    fulltext.append(text)\n",
    "\n",
    "df_texts = pd.DataFrame.from_dict({\"fulltext_filename\": fulltext_filename, \"fulltext\": fulltext})"
   ]
  },
  {
   "cell_type": "markdown",
   "metadata": {},
   "source": [
    "## UML modelling\n",
    "From an Entity-Relationship model to a relational model (tidy data).\n",
    "\n",
    "UML: Unified Modelling Language. A visual design language to go about modelling systems, including data. https://en.wikipedia.org/wiki/Unified_Modeling_Language"
   ]
  },
  {
   "cell_type": "code",
   "execution_count": 9,
   "metadata": {},
   "outputs": [
    {
     "data": {
      "text/html": [
       "<div>\n",
       "<style scoped>\n",
       "    .dataframe tbody tr th:only-of-type {\n",
       "        vertical-align: middle;\n",
       "    }\n",
       "\n",
       "    .dataframe tbody tr th {\n",
       "        vertical-align: top;\n",
       "    }\n",
       "\n",
       "    .dataframe thead th {\n",
       "        text-align: right;\n",
       "    }\n",
       "</style>\n",
       "<table border=\"1\" class=\"dataframe\">\n",
       "  <thead>\n",
       "    <tr style=\"text-align: right;\">\n",
       "      <th></th>\n",
       "      <th>datefield</th>\n",
       "      <th>publisher</th>\n",
       "      <th>title</th>\n",
       "      <th>edition</th>\n",
       "      <th>place</th>\n",
       "      <th>issuance</th>\n",
       "      <th>authors</th>\n",
       "      <th>first_pdf</th>\n",
       "      <th>number_volumes</th>\n",
       "      <th>identifier</th>\n",
       "      <th>fulltext_filename</th>\n",
       "    </tr>\n",
       "  </thead>\n",
       "  <tbody>\n",
       "    <tr>\n",
       "      <th>0</th>\n",
       "      <td>1841.0</td>\n",
       "      <td>Privately printed</td>\n",
       "      <td>The Poetical Aviary, with a bird's-eye view of...</td>\n",
       "      <td></td>\n",
       "      <td>Calcutta</td>\n",
       "      <td>monographic</td>\n",
       "      <td>[A. A.]</td>\n",
       "      <td>lsidyv35c55757</td>\n",
       "      <td>1</td>\n",
       "      <td>000000196</td>\n",
       "      <td>000000196_01_text.json</td>\n",
       "    </tr>\n",
       "  </tbody>\n",
       "</table>\n",
       "</div>"
      ],
      "text/plain": [
       "   datefield          publisher  \\\n",
       "0     1841.0  Privately printed   \n",
       "\n",
       "                                               title edition     place  \\\n",
       "0  The Poetical Aviary, with a bird's-eye view of...          Calcutta   \n",
       "\n",
       "      issuance  authors       first_pdf  number_volumes identifier  \\\n",
       "0  monographic  [A. A.]  lsidyv35c55757               1  000000196   \n",
       "\n",
       "        fulltext_filename  \n",
       "0  000000196_01_text.json  "
      ]
     },
     "execution_count": 9,
     "metadata": {},
     "output_type": "execute_result"
    }
   ],
   "source": [
    "df_meta.head(1)"
   ]
  },
  {
   "cell_type": "code",
   "execution_count": 10,
   "metadata": {},
   "outputs": [
    {
     "data": {
      "text/html": [
       "<div>\n",
       "<style scoped>\n",
       "    .dataframe tbody tr th:only-of-type {\n",
       "        vertical-align: middle;\n",
       "    }\n",
       "\n",
       "    .dataframe tbody tr th {\n",
       "        vertical-align: top;\n",
       "    }\n",
       "\n",
       "    .dataframe thead th {\n",
       "        text-align: right;\n",
       "    }\n",
       "</style>\n",
       "<table border=\"1\" class=\"dataframe\">\n",
       "  <thead>\n",
       "    <tr style=\"text-align: right;\">\n",
       "      <th></th>\n",
       "      <th>fulltext_filename</th>\n",
       "      <th>fulltext</th>\n",
       "    </tr>\n",
       "  </thead>\n",
       "  <tbody>\n",
       "    <tr>\n",
       "      <th>150</th>\n",
       "      <td>000000196_01_text.json</td>\n",
       "      <td>THE POETICAL AVIARY, WITH A B I R D'S-E ...</td>\n",
       "    </tr>\n",
       "  </tbody>\n",
       "</table>\n",
       "</div>"
      ],
      "text/plain": [
       "          fulltext_filename                                           fulltext\n",
       "150  000000196_01_text.json        THE POETICAL AVIARY, WITH A B I R D'S-E ..."
      ]
     },
     "execution_count": 10,
     "metadata": {},
     "output_type": "execute_result"
    }
   ],
   "source": [
    "df_texts[df_texts[\"fulltext_filename\"] == '000000196_01_text.json']"
   ]
  },
  {
   "cell_type": "code",
   "execution_count": 11,
   "metadata": {},
   "outputs": [
    {
     "data": {
      "text/html": [
       "<div>\n",
       "<style scoped>\n",
       "    .dataframe tbody tr th:only-of-type {\n",
       "        vertical-align: middle;\n",
       "    }\n",
       "\n",
       "    .dataframe tbody tr th {\n",
       "        vertical-align: top;\n",
       "    }\n",
       "\n",
       "    .dataframe thead th {\n",
       "        text-align: right;\n",
       "    }\n",
       "</style>\n",
       "<table border=\"1\" class=\"dataframe\">\n",
       "  <thead>\n",
       "    <tr style=\"text-align: right;\">\n",
       "      <th></th>\n",
       "      <th>aleph system no.</th>\n",
       "      <th>country code</th>\n",
       "      <th>language code (008)</th>\n",
       "      <th>language code (041)</th>\n",
       "      <th>ddc</th>\n",
       "      <th>personal author</th>\n",
       "      <th>corporate author</th>\n",
       "      <th>title</th>\n",
       "      <th>edition</th>\n",
       "      <th>imprint</th>\n",
       "      <th>series</th>\n",
       "      <th>subjects</th>\n",
       "      <th>other personal authors</th>\n",
       "      <th>other corporate authors</th>\n",
       "      <th>dom id</th>\n",
       "      <th>type</th>\n",
       "      <th>genre</th>\n",
       "      <th>first_pdf</th>\n",
       "    </tr>\n",
       "  </thead>\n",
       "  <tbody>\n",
       "    <tr>\n",
       "      <th>234</th>\n",
       "      <td>14846757</td>\n",
       "      <td>|||</td>\n",
       "      <td>eng</td>\n",
       "      <td>NaN</td>\n",
       "      <td>NaN</td>\n",
       "      <td>A. A.</td>\n",
       "      <td>NaN</td>\n",
       "      <td>The Poetical Aviary, with a bird's-eye view of...</td>\n",
       "      <td>NaN</td>\n",
       "      <td>Calcutta : Privately printed, 1841.</td>\n",
       "      <td>NaN</td>\n",
       "      <td>NaN</td>\n",
       "      <td>NaN</td>\n",
       "      <td>NaN</td>\n",
       "      <td>lsidyv35c55757</td>\n",
       "      <td>poet</td>\n",
       "      <td>Poetry</td>\n",
       "      <td>lsidyv35c55757</td>\n",
       "    </tr>\n",
       "  </tbody>\n",
       "</table>\n",
       "</div>"
      ],
      "text/plain": [
       "     aleph system no. country code language code (008) language code (041)  \\\n",
       "234          14846757          |||                 eng                 NaN   \n",
       "\n",
       "     ddc personal author corporate author  \\\n",
       "234  NaN           A. A.              NaN   \n",
       "\n",
       "                                                 title edition  \\\n",
       "234  The Poetical Aviary, with a bird's-eye view of...     NaN   \n",
       "\n",
       "                                 imprint series subjects  \\\n",
       "234  Calcutta : Privately printed, 1841.    NaN      NaN   \n",
       "\n",
       "    other personal authors  other corporate authors          dom id  type  \\\n",
       "234                    NaN                      NaN  lsidyv35c55757  poet   \n",
       "\n",
       "      genre       first_pdf  \n",
       "234  Poetry  lsidyv35c55757  "
      ]
     },
     "execution_count": 11,
     "metadata": {},
     "output_type": "execute_result"
    }
   ],
   "source": [
    "df_extra[df_extra[\"first_pdf\"] == \"lsidyv35c55757\"]"
   ]
  },
  {
   "cell_type": "markdown",
   "metadata": {},
   "source": [
    "*Note: switch to the blackboard and model!*"
   ]
  },
  {
   "cell_type": "markdown",
   "metadata": {},
   "source": [
    "## Tidy dataset: relational-model\n",
    "\n",
    "* Full view (for your curiosity): https://dbdiagram.io/d/5d06a4adfff7633dfc8e3a42\n",
    "* Reduced view (we here use this one): https://dbdiagram.io/d/5d06a5d0fff7633dfc8e3a47"
   ]
  },
  {
   "cell_type": "code",
   "execution_count": 12,
   "metadata": {},
   "outputs": [],
   "source": [
    "# first, join the extra metadata genre column to the metadata data frame\n",
    "\n",
    "df_extra_genre = df_extra[[\"genre\",\"first_pdf\"]]\n",
    "df_book = df_meta.join(df_extra_genre.set_index('first_pdf'), on='first_pdf')"
   ]
  },
  {
   "cell_type": "code",
   "execution_count": 13,
   "metadata": {},
   "outputs": [
    {
     "data": {
      "text/html": [
       "<div>\n",
       "<style scoped>\n",
       "    .dataframe tbody tr th:only-of-type {\n",
       "        vertical-align: middle;\n",
       "    }\n",
       "\n",
       "    .dataframe tbody tr th {\n",
       "        vertical-align: top;\n",
       "    }\n",
       "\n",
       "    .dataframe thead th {\n",
       "        text-align: right;\n",
       "    }\n",
       "</style>\n",
       "<table border=\"1\" class=\"dataframe\">\n",
       "  <thead>\n",
       "    <tr style=\"text-align: right;\">\n",
       "      <th></th>\n",
       "      <th>datefield</th>\n",
       "      <th>publisher</th>\n",
       "      <th>title</th>\n",
       "      <th>edition</th>\n",
       "      <th>place</th>\n",
       "      <th>issuance</th>\n",
       "      <th>authors</th>\n",
       "      <th>first_pdf</th>\n",
       "      <th>number_volumes</th>\n",
       "      <th>identifier</th>\n",
       "      <th>fulltext_filename</th>\n",
       "      <th>genre</th>\n",
       "    </tr>\n",
       "  </thead>\n",
       "  <tbody>\n",
       "    <tr>\n",
       "      <th>0</th>\n",
       "      <td>1841.0</td>\n",
       "      <td>Privately printed</td>\n",
       "      <td>The Poetical Aviary, with a bird's-eye view of...</td>\n",
       "      <td></td>\n",
       "      <td>Calcutta</td>\n",
       "      <td>monographic</td>\n",
       "      <td>[A. A.]</td>\n",
       "      <td>lsidyv35c55757</td>\n",
       "      <td>1</td>\n",
       "      <td>000000196</td>\n",
       "      <td>000000196_01_text.json</td>\n",
       "      <td>Poetry</td>\n",
       "    </tr>\n",
       "  </tbody>\n",
       "</table>\n",
       "</div>"
      ],
      "text/plain": [
       "   datefield          publisher  \\\n",
       "0     1841.0  Privately printed   \n",
       "\n",
       "                                               title edition     place  \\\n",
       "0  The Poetical Aviary, with a bird's-eye view of...          Calcutta   \n",
       "\n",
       "      issuance  authors       first_pdf  number_volumes identifier  \\\n",
       "0  monographic  [A. A.]  lsidyv35c55757               1  000000196   \n",
       "\n",
       "        fulltext_filename   genre  \n",
       "0  000000196_01_text.json  Poetry  "
      ]
     },
     "execution_count": 13,
     "metadata": {},
     "output_type": "execute_result"
    }
   ],
   "source": [
    "df_book.head(1)"
   ]
  },
  {
   "cell_type": "code",
   "execution_count": 14,
   "metadata": {},
   "outputs": [
    {
     "data": {
      "text/html": [
       "<div>\n",
       "<style scoped>\n",
       "    .dataframe tbody tr th:only-of-type {\n",
       "        vertical-align: middle;\n",
       "    }\n",
       "\n",
       "    .dataframe tbody tr th {\n",
       "        vertical-align: top;\n",
       "    }\n",
       "\n",
       "    .dataframe thead th {\n",
       "        text-align: right;\n",
       "    }\n",
       "</style>\n",
       "<table border=\"1\" class=\"dataframe\">\n",
       "  <thead>\n",
       "    <tr style=\"text-align: right;\">\n",
       "      <th></th>\n",
       "      <th>fulltext_filename</th>\n",
       "      <th>fulltext</th>\n",
       "      <th>book_id</th>\n",
       "    </tr>\n",
       "  </thead>\n",
       "  <tbody>\n",
       "    <tr>\n",
       "      <th>0</th>\n",
       "      <td>000551646_01_text.json</td>\n",
       "      <td>' -■\" ' LiLitr-- )Wm&amp;, HISTORY OF THE...</td>\n",
       "      <td>000551646</td>\n",
       "    </tr>\n",
       "    <tr>\n",
       "      <th>1</th>\n",
       "      <td>002674278_01_text.json</td>\n",
       "      <td>The Great Revolution of 1840. REMINISC...</td>\n",
       "      <td>002674278</td>\n",
       "    </tr>\n",
       "    <tr>\n",
       "      <th>2</th>\n",
       "      <td>001975731_01_text.json</td>\n",
       "      <td>THE REAR-GUARD OF THE REVOLUTION. BY E...</td>\n",
       "      <td>001975731</td>\n",
       "    </tr>\n",
       "  </tbody>\n",
       "</table>\n",
       "</div>"
      ],
      "text/plain": [
       "        fulltext_filename                                           fulltext  \\\n",
       "0  000551646_01_text.json           ' -■\" ' LiLitr-- )Wm&, HISTORY OF THE...   \n",
       "1  002674278_01_text.json          The Great Revolution of 1840. REMINISC...   \n",
       "2  001975731_01_text.json          THE REAR-GUARD OF THE REVOLUTION. BY E...   \n",
       "\n",
       "     book_id  \n",
       "0  000551646  \n",
       "1  002674278  \n",
       "2  001975731  "
      ]
     },
     "execution_count": 14,
     "metadata": {},
     "output_type": "execute_result"
    }
   ],
   "source": [
    "# second, add the book_id to the book_text dataframe\n",
    "\n",
    "df_book_text = df_texts.join(df_book[[\"identifier\",\"fulltext_filename\"]].set_index('fulltext_filename'), on='fulltext_filename')\n",
    "df_book_text = df_book_text.rename(columns={\"identifier\":\"book_id\"})\n",
    "df_book_text.head(3)"
   ]
  },
  {
   "cell_type": "code",
   "execution_count": 15,
   "metadata": {},
   "outputs": [],
   "source": [
    "# third, pull our author information and create the author table and the author-book table\n",
    "\n",
    "author_id = 0 # this is a counter which provides for a distinct identifier to every author\n",
    "author_dict = OrderedDict()\n",
    "author_book_table = {\"book_id\":list(),\"author_id\":list()}\n",
    "for book_id, authors in df_book[[\"identifier\",\"authors\"]].values:\n",
    "    for author in authors:\n",
    "        if author not in author_dict.keys():\n",
    "            author_dict[author] = author_id\n",
    "            author_id += 1\n",
    "        author_book_table[\"book_id\"].append(book_id)\n",
    "        author_book_table[\"author_id\"].append(author_dict[author])\n",
    "        \n",
    "df_author_book = pd.DataFrame.from_dict(author_book_table)\n",
    "df_author = pd.DataFrame.from_dict({\"name\":[v for v in author_dict.keys()],\n",
    "                                   \"id\":[k for k in author_dict.values()]})\n",
    "df_author.set_index(\"id\", inplace=True)"
   ]
  },
  {
   "cell_type": "code",
   "execution_count": 16,
   "metadata": {},
   "outputs": [
    {
     "data": {
      "text/html": [
       "<div>\n",
       "<style scoped>\n",
       "    .dataframe tbody tr th:only-of-type {\n",
       "        vertical-align: middle;\n",
       "    }\n",
       "\n",
       "    .dataframe tbody tr th {\n",
       "        vertical-align: top;\n",
       "    }\n",
       "\n",
       "    .dataframe thead th {\n",
       "        text-align: right;\n",
       "    }\n",
       "</style>\n",
       "<table border=\"1\" class=\"dataframe\">\n",
       "  <thead>\n",
       "    <tr style=\"text-align: right;\">\n",
       "      <th></th>\n",
       "      <th>name</th>\n",
       "    </tr>\n",
       "    <tr>\n",
       "      <th>id</th>\n",
       "      <th></th>\n",
       "    </tr>\n",
       "  </thead>\n",
       "  <tbody>\n",
       "    <tr>\n",
       "      <th>0</th>\n",
       "      <td>A. A.</td>\n",
       "    </tr>\n",
       "    <tr>\n",
       "      <th>1</th>\n",
       "      <td>Abbott, Evelyn</td>\n",
       "    </tr>\n",
       "    <tr>\n",
       "      <th>2</th>\n",
       "      <td>A'BECKETT, Gilbert Abbott.</td>\n",
       "    </tr>\n",
       "  </tbody>\n",
       "</table>\n",
       "</div>"
      ],
      "text/plain": [
       "                          name\n",
       "id                            \n",
       "0                        A. A.\n",
       "1               Abbott, Evelyn\n",
       "2   A'BECKETT, Gilbert Abbott."
      ]
     },
     "execution_count": 16,
     "metadata": {},
     "output_type": "execute_result"
    }
   ],
   "source": [
    "df_author.head(3)"
   ]
  },
  {
   "cell_type": "code",
   "execution_count": 17,
   "metadata": {},
   "outputs": [
    {
     "data": {
      "text/html": [
       "<div>\n",
       "<style scoped>\n",
       "    .dataframe tbody tr th:only-of-type {\n",
       "        vertical-align: middle;\n",
       "    }\n",
       "\n",
       "    .dataframe tbody tr th {\n",
       "        vertical-align: top;\n",
       "    }\n",
       "\n",
       "    .dataframe thead th {\n",
       "        text-align: right;\n",
       "    }\n",
       "</style>\n",
       "<table border=\"1\" class=\"dataframe\">\n",
       "  <thead>\n",
       "    <tr style=\"text-align: right;\">\n",
       "      <th></th>\n",
       "      <th>book_id</th>\n",
       "      <th>author_id</th>\n",
       "    </tr>\n",
       "  </thead>\n",
       "  <tbody>\n",
       "    <tr>\n",
       "      <th>0</th>\n",
       "      <td>000000196</td>\n",
       "      <td>0</td>\n",
       "    </tr>\n",
       "    <tr>\n",
       "      <th>1</th>\n",
       "      <td>000004047</td>\n",
       "      <td>1</td>\n",
       "    </tr>\n",
       "    <tr>\n",
       "      <th>2</th>\n",
       "      <td>000005382</td>\n",
       "      <td>2</td>\n",
       "    </tr>\n",
       "  </tbody>\n",
       "</table>\n",
       "</div>"
      ],
      "text/plain": [
       "     book_id  author_id\n",
       "0  000000196          0\n",
       "1  000004047          1\n",
       "2  000005382          2"
      ]
     },
     "execution_count": 17,
     "metadata": {},
     "output_type": "execute_result"
    }
   ],
   "source": [
    "df_author_book.head(3)"
   ]
  },
  {
   "cell_type": "markdown",
   "metadata": {},
   "source": [
    "*Note: you don't need to do this: these dataframes are already there!*"
   ]
  },
  {
   "cell_type": "code",
   "execution_count": 18,
   "metadata": {},
   "outputs": [],
   "source": [
    "# let's now save our data frames for future use\n",
    "\n",
    "root_folder = \"../data/bl_books/sample_tidy/\"\n",
    "df_book.to_csv(os.path.join(root_folder,\"df_book.csv\"))\n",
    "df_author.to_csv(os.path.join(root_folder,\"df_author.csv\"))\n",
    "df_author_book.to_csv(os.path.join(root_folder,\"df_author_book.csv\"))\n",
    "df_book_text.to_csv(os.path.join(root_folder,\"df_book_text.csv\"))"
   ]
  },
  {
   "cell_type": "code",
   "execution_count": null,
   "metadata": {},
   "outputs": [],
   "source": []
  }
 ],
 "metadata": {
  "kernelspec": {
   "display_name": "Python 3",
   "language": "python",
   "name": "python3"
  },
  "language_info": {
   "codemirror_mode": {
    "name": "ipython",
    "version": 3
   },
   "file_extension": ".py",
   "mimetype": "text/x-python",
   "name": "python",
   "nbconvert_exporter": "python",
   "pygments_lexer": "ipython3",
   "version": "3.7.3"
  }
 },
 "nbformat": 4,
 "nbformat_minor": 2
}
