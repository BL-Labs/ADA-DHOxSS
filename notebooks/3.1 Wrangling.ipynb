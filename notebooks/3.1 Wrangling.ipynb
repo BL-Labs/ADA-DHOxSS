{
 "cells": [
  {
   "cell_type": "markdown",
   "metadata": {},
   "source": [
    "# 3.1 Wrangling"
   ]
  },
  {
   "cell_type": "markdown",
   "metadata": {},
   "source": [
    "In this notebook, we practice with operations on tidy data frames."
   ]
  },
  {
   "cell_type": "code",
   "execution_count": 1,
   "metadata": {},
   "outputs": [],
   "source": [
    "# imports\n",
    "\n",
    "import pandas as pd\n",
    "import json, os, codecs\n",
    "from collections import defaultdict, OrderedDict\n",
    "import seaborn as sns"
   ]
  },
  {
   "cell_type": "markdown",
   "metadata": {},
   "source": [
    "## Import the dataset\n",
    "Let us import the tidy sample dataset in memory."
   ]
  },
  {
   "cell_type": "code",
   "execution_count": 2,
   "metadata": {},
   "outputs": [],
   "source": [
    "root_folder = \"../data/bl_books/sample_tidy/\"\n",
    "df_book = pd.read_csv(os.path.join(root_folder,\"df_book.csv\"))\n",
    "df_author = pd.read_csv(os.path.join(root_folder,\"df_author.csv\"))\n",
    "df_author_book = pd.read_csv(os.path.join(root_folder,\"df_author_book.csv\"))\n",
    "df_book_text = pd.read_csv(os.path.join(root_folder,\"df_book_text.csv\"))"
   ]
  },
  {
   "cell_type": "markdown",
   "metadata": {},
   "source": [
    "## Take a look\n",
    "Let's take another look to the dataset to refresh out memories."
   ]
  },
  {
   "cell_type": "code",
   "execution_count": 3,
   "metadata": {},
   "outputs": [
    {
     "data": {
      "text/html": [
       "<div>\n",
       "<style scoped>\n",
       "    .dataframe tbody tr th:only-of-type {\n",
       "        vertical-align: middle;\n",
       "    }\n",
       "\n",
       "    .dataframe tbody tr th {\n",
       "        vertical-align: top;\n",
       "    }\n",
       "\n",
       "    .dataframe thead th {\n",
       "        text-align: right;\n",
       "    }\n",
       "</style>\n",
       "<table border=\"1\" class=\"dataframe\">\n",
       "  <thead>\n",
       "    <tr style=\"text-align: right;\">\n",
       "      <th></th>\n",
       "      <th>datefield</th>\n",
       "      <th>publisher</th>\n",
       "      <th>title</th>\n",
       "      <th>edition</th>\n",
       "      <th>place</th>\n",
       "      <th>issuance</th>\n",
       "      <th>first_pdf</th>\n",
       "      <th>number_volumes</th>\n",
       "      <th>identifier</th>\n",
       "      <th>fulltext_filename</th>\n",
       "      <th>type</th>\n",
       "      <th>genre</th>\n",
       "    </tr>\n",
       "  </thead>\n",
       "  <tbody>\n",
       "    <tr>\n",
       "      <th>0</th>\n",
       "      <td>1841.0</td>\n",
       "      <td>Privately printed</td>\n",
       "      <td>The Poetical Aviary, with a bird's-eye view of...</td>\n",
       "      <td>NaN</td>\n",
       "      <td>Calcutta</td>\n",
       "      <td>monographic</td>\n",
       "      <td>lsidyv35c55757</td>\n",
       "      <td>1</td>\n",
       "      <td>196</td>\n",
       "      <td>000000196_01_text.json</td>\n",
       "      <td>poet</td>\n",
       "      <td>Poetry</td>\n",
       "    </tr>\n",
       "  </tbody>\n",
       "</table>\n",
       "</div>"
      ],
      "text/plain": [
       "   datefield          publisher  \\\n",
       "0     1841.0  Privately printed   \n",
       "\n",
       "                                               title edition     place  \\\n",
       "0  The Poetical Aviary, with a bird's-eye view of...     NaN  Calcutta   \n",
       "\n",
       "      issuance       first_pdf  number_volumes  identifier  \\\n",
       "0  monographic  lsidyv35c55757               1         196   \n",
       "\n",
       "        fulltext_filename  type   genre  \n",
       "0  000000196_01_text.json  poet  Poetry  "
      ]
     },
     "execution_count": 3,
     "metadata": {},
     "output_type": "execute_result"
    }
   ],
   "source": [
    "df_book.head(1)"
   ]
  },
  {
   "cell_type": "code",
   "execution_count": 4,
   "metadata": {},
   "outputs": [
    {
     "data": {
      "text/html": [
       "<div>\n",
       "<style scoped>\n",
       "    .dataframe tbody tr th:only-of-type {\n",
       "        vertical-align: middle;\n",
       "    }\n",
       "\n",
       "    .dataframe tbody tr th {\n",
       "        vertical-align: top;\n",
       "    }\n",
       "\n",
       "    .dataframe thead th {\n",
       "        text-align: right;\n",
       "    }\n",
       "</style>\n",
       "<table border=\"1\" class=\"dataframe\">\n",
       "  <thead>\n",
       "    <tr style=\"text-align: right;\">\n",
       "      <th></th>\n",
       "      <th>name</th>\n",
       "    </tr>\n",
       "  </thead>\n",
       "  <tbody>\n",
       "    <tr>\n",
       "      <th>0</th>\n",
       "      <td>A. A.</td>\n",
       "    </tr>\n",
       "    <tr>\n",
       "      <th>1</th>\n",
       "      <td>Abbott, Evelyn</td>\n",
       "    </tr>\n",
       "    <tr>\n",
       "      <th>2</th>\n",
       "      <td>A'BECKETT, Gilbert Abbott.</td>\n",
       "    </tr>\n",
       "    <tr>\n",
       "      <th>3</th>\n",
       "      <td>Laffan, De Courcy - Mrs</td>\n",
       "    </tr>\n",
       "    <tr>\n",
       "      <th>4</th>\n",
       "      <td>Adams, W. H. Davenport (William Henry Davenport)</td>\n",
       "    </tr>\n",
       "  </tbody>\n",
       "</table>\n",
       "</div>"
      ],
      "text/plain": [
       "                                               name\n",
       "0                                             A. A.\n",
       "1                                    Abbott, Evelyn\n",
       "2                        A'BECKETT, Gilbert Abbott.\n",
       "3                           Laffan, De Courcy - Mrs\n",
       "4  Adams, W. H. Davenport (William Henry Davenport)"
      ]
     },
     "execution_count": 4,
     "metadata": {},
     "output_type": "execute_result"
    }
   ],
   "source": [
    "df_author.head(5)"
   ]
  },
  {
   "cell_type": "code",
   "execution_count": 5,
   "metadata": {},
   "outputs": [
    {
     "data": {
      "text/html": [
       "<div>\n",
       "<style scoped>\n",
       "    .dataframe tbody tr th:only-of-type {\n",
       "        vertical-align: middle;\n",
       "    }\n",
       "\n",
       "    .dataframe tbody tr th {\n",
       "        vertical-align: top;\n",
       "    }\n",
       "\n",
       "    .dataframe thead th {\n",
       "        text-align: right;\n",
       "    }\n",
       "</style>\n",
       "<table border=\"1\" class=\"dataframe\">\n",
       "  <thead>\n",
       "    <tr style=\"text-align: right;\">\n",
       "      <th></th>\n",
       "      <th>book_id</th>\n",
       "      <th>author_id</th>\n",
       "    </tr>\n",
       "  </thead>\n",
       "  <tbody>\n",
       "    <tr>\n",
       "      <th>0</th>\n",
       "      <td>196</td>\n",
       "      <td>0</td>\n",
       "    </tr>\n",
       "    <tr>\n",
       "      <th>1</th>\n",
       "      <td>4047</td>\n",
       "      <td>1</td>\n",
       "    </tr>\n",
       "    <tr>\n",
       "      <th>2</th>\n",
       "      <td>5382</td>\n",
       "      <td>2</td>\n",
       "    </tr>\n",
       "    <tr>\n",
       "      <th>3</th>\n",
       "      <td>14627</td>\n",
       "      <td>3</td>\n",
       "    </tr>\n",
       "    <tr>\n",
       "      <th>4</th>\n",
       "      <td>17057</td>\n",
       "      <td>4</td>\n",
       "    </tr>\n",
       "  </tbody>\n",
       "</table>\n",
       "</div>"
      ],
      "text/plain": [
       "   book_id  author_id\n",
       "0      196          0\n",
       "1     4047          1\n",
       "2     5382          2\n",
       "3    14627          3\n",
       "4    17057          4"
      ]
     },
     "execution_count": 5,
     "metadata": {},
     "output_type": "execute_result"
    }
   ],
   "source": [
    "df_author_book.head(5)"
   ]
  },
  {
   "cell_type": "code",
   "execution_count": 6,
   "metadata": {},
   "outputs": [
    {
     "data": {
      "text/html": [
       "<div>\n",
       "<style scoped>\n",
       "    .dataframe tbody tr th:only-of-type {\n",
       "        vertical-align: middle;\n",
       "    }\n",
       "\n",
       "    .dataframe tbody tr th {\n",
       "        vertical-align: top;\n",
       "    }\n",
       "\n",
       "    .dataframe thead th {\n",
       "        text-align: right;\n",
       "    }\n",
       "</style>\n",
       "<table border=\"1\" class=\"dataframe\">\n",
       "  <thead>\n",
       "    <tr style=\"text-align: right;\">\n",
       "      <th></th>\n",
       "      <th>fulltext_filename</th>\n",
       "      <th>fulltext</th>\n",
       "      <th>book_id</th>\n",
       "    </tr>\n",
       "  </thead>\n",
       "  <tbody>\n",
       "    <tr>\n",
       "      <th>0</th>\n",
       "      <td>000551646_01_text.json</td>\n",
       "      <td>' -■\" ' LiLitr-- )Wm&amp;, HISTORY OF THE...</td>\n",
       "      <td>551646</td>\n",
       "    </tr>\n",
       "    <tr>\n",
       "      <th>1</th>\n",
       "      <td>002674278_01_text.json</td>\n",
       "      <td>The Great Revolution of 1840. REMINISC...</td>\n",
       "      <td>2674278</td>\n",
       "    </tr>\n",
       "    <tr>\n",
       "      <th>2</th>\n",
       "      <td>001975731_01_text.json</td>\n",
       "      <td>THE REAR-GUARD OF THE REVOLUTION. BY E...</td>\n",
       "      <td>1975731</td>\n",
       "    </tr>\n",
       "  </tbody>\n",
       "</table>\n",
       "</div>"
      ],
      "text/plain": [
       "        fulltext_filename                                           fulltext  \\\n",
       "0  000551646_01_text.json           ' -■\" ' LiLitr-- )Wm&, HISTORY OF THE...   \n",
       "1  002674278_01_text.json          The Great Revolution of 1840. REMINISC...   \n",
       "2  001975731_01_text.json          THE REAR-GUARD OF THE REVOLUTION. BY E...   \n",
       "\n",
       "   book_id  \n",
       "0   551646  \n",
       "1  2674278  \n",
       "2  1975731  "
      ]
     },
     "execution_count": 6,
     "metadata": {},
     "output_type": "execute_result"
    }
   ],
   "source": [
    "df_book_text.head(3)"
   ]
  },
  {
   "cell_type": "code",
   "execution_count": 7,
   "metadata": {},
   "outputs": [],
   "source": [
    "# let's create a few smaller datasets to play with transformations, via selection\n",
    "\n",
    "df_book_tragedy = df_book[df_book[\"type\"] == \"tragedy\"]\n",
    "df_book_comedy = df_book[df_book[\"type\"] == \"comedy\"]"
   ]
  },
  {
   "cell_type": "markdown",
   "metadata": {},
   "source": [
    "## Set operations"
   ]
  },
  {
   "cell_type": "code",
   "execution_count": 8,
   "metadata": {},
   "outputs": [],
   "source": [
    "# A refresher in python\n",
    "\n",
    "A = set([1,2,3,4,4,5])\n",
    "B = set([1,4,5,6,7,8])"
   ]
  },
  {
   "cell_type": "code",
   "execution_count": 9,
   "metadata": {},
   "outputs": [
    {
     "name": "stdout",
     "output_type": "stream",
     "text": [
      "{1, 2, 3, 4, 5}\n",
      "{1, 2, 3, 4, 5, 6, 7, 8}\n"
     ]
    }
   ],
   "source": [
    "print(A)"
   ]
  },
  {
   "cell_type": "code",
   "execution_count": 11,
   "metadata": {},
   "outputs": [
    {
     "name": "stdout",
     "output_type": "stream",
     "text": [
      "{1, 2, 3, 4, 5, 6, 7, 8}\n"
     ]
    }
   ],
   "source": [
    "print(A.union(B))"
   ]
  },
  {
   "cell_type": "code",
   "execution_count": 12,
   "metadata": {},
   "outputs": [
    {
     "name": "stdout",
     "output_type": "stream",
     "text": [
      "{2, 3}\n"
     ]
    }
   ],
   "source": [
    "print(A.difference(B))"
   ]
  },
  {
   "cell_type": "code",
   "execution_count": 13,
   "metadata": {},
   "outputs": [
    {
     "name": "stdout",
     "output_type": "stream",
     "text": [
      "{1, 4, 5}\n"
     ]
    }
   ],
   "source": [
    "print(A.intersection(B))"
   ]
  },
  {
   "cell_type": "code",
   "execution_count": 14,
   "metadata": {},
   "outputs": [
    {
     "data": {
      "text/plain": [
       "(32, 12)"
      ]
     },
     "execution_count": 14,
     "metadata": {},
     "output_type": "execute_result"
    }
   ],
   "source": [
    "df_book_tragedy.shape"
   ]
  },
  {
   "cell_type": "code",
   "execution_count": 15,
   "metadata": {},
   "outputs": [
    {
     "data": {
      "text/plain": [
       "(18, 12)"
      ]
     },
     "execution_count": 15,
     "metadata": {},
     "output_type": "execute_result"
    }
   ],
   "source": [
    "df_book_comedy.shape"
   ]
  },
  {
   "cell_type": "markdown",
   "metadata": {},
   "source": [
    "### Projection"
   ]
  },
  {
   "cell_type": "code",
   "execution_count": 55,
   "metadata": {},
   "outputs": [
    {
     "data": {
      "text/html": [
       "<div>\n",
       "<style scoped>\n",
       "    .dataframe tbody tr th:only-of-type {\n",
       "        vertical-align: middle;\n",
       "    }\n",
       "\n",
       "    .dataframe tbody tr th {\n",
       "        vertical-align: top;\n",
       "    }\n",
       "\n",
       "    .dataframe thead th {\n",
       "        text-align: right;\n",
       "    }\n",
       "</style>\n",
       "<table border=\"1\" class=\"dataframe\">\n",
       "  <thead>\n",
       "    <tr style=\"text-align: right;\">\n",
       "      <th></th>\n",
       "      <th>identifier</th>\n",
       "      <th>title</th>\n",
       "    </tr>\n",
       "  </thead>\n",
       "  <tbody>\n",
       "    <tr>\n",
       "      <th>71</th>\n",
       "      <td>558610</td>\n",
       "      <td>Arnaldo; Gaddo; and other unacknowledged poems...</td>\n",
       "    </tr>\n",
       "    <tr>\n",
       "      <th>75</th>\n",
       "      <td>570834</td>\n",
       "      <td>['Tis Well it's no Worse: a comedy, etc. [Adap...</td>\n",
       "    </tr>\n",
       "    <tr>\n",
       "      <th>115</th>\n",
       "      <td>835116</td>\n",
       "      <td>The Jew: a comedy, etc</td>\n",
       "    </tr>\n",
       "    <tr>\n",
       "      <th>117</th>\n",
       "      <td>849202</td>\n",
       "      <td>Psyche debauch'd, a comedy, as it was acted at...</td>\n",
       "    </tr>\n",
       "    <tr>\n",
       "      <th>177</th>\n",
       "      <td>1552331</td>\n",
       "      <td>The Womens Conquest. A tragicomedy [in five ac...</td>\n",
       "    </tr>\n",
       "    <tr>\n",
       "      <th>183</th>\n",
       "      <td>1593978</td>\n",
       "      <td>Thomas Hardy's works</td>\n",
       "    </tr>\n",
       "    <tr>\n",
       "      <th>184</th>\n",
       "      <td>1594129</td>\n",
       "      <td>The hand of Ethelberta. A comedy in chapters ....</td>\n",
       "    </tr>\n",
       "    <tr>\n",
       "      <th>196</th>\n",
       "      <td>1710613</td>\n",
       "      <td>Love's Frailties: a comedy in five acts [in pr...</td>\n",
       "    </tr>\n",
       "    <tr>\n",
       "      <th>206</th>\n",
       "      <td>1793956</td>\n",
       "      <td>The Wedding Day; a comedy in two acts [and in ...</td>\n",
       "    </tr>\n",
       "    <tr>\n",
       "      <th>221</th>\n",
       "      <td>1920080</td>\n",
       "      <td>Looking Glass for my Poli-comedie actors in Eu...</td>\n",
       "    </tr>\n",
       "  </tbody>\n",
       "</table>\n",
       "</div>"
      ],
      "text/plain": [
       "     identifier                                              title\n",
       "71       558610  Arnaldo; Gaddo; and other unacknowledged poems...\n",
       "75       570834  ['Tis Well it's no Worse: a comedy, etc. [Adap...\n",
       "115      835116                             The Jew: a comedy, etc\n",
       "117      849202  Psyche debauch'd, a comedy, as it was acted at...\n",
       "177     1552331  The Womens Conquest. A tragicomedy [in five ac...\n",
       "183     1593978                               Thomas Hardy's works\n",
       "184     1594129  The hand of Ethelberta. A comedy in chapters ....\n",
       "196     1710613  Love's Frailties: a comedy in five acts [in pr...\n",
       "206     1793956  The Wedding Day; a comedy in two acts [and in ...\n",
       "221     1920080  Looking Glass for my Poli-comedie actors in Eu..."
      ]
     },
     "execution_count": 55,
     "metadata": {},
     "output_type": "execute_result"
    }
   ],
   "source": [
    "df_book_comedy[[\"identifier\",\"title\"]].head(10)"
   ]
  },
  {
   "cell_type": "markdown",
   "metadata": {},
   "source": [
    "### Union"
   ]
  },
  {
   "cell_type": "code",
   "execution_count": 24,
   "metadata": {},
   "outputs": [
    {
     "data": {
      "text/plain": [
       "(50, 12)"
      ]
     },
     "execution_count": 24,
     "metadata": {},
     "output_type": "execute_result"
    }
   ],
   "source": [
    "pd.concat([df_book_tragedy, df_book_comedy]).shape"
   ]
  },
  {
   "cell_type": "code",
   "execution_count": 27,
   "metadata": {},
   "outputs": [
    {
     "data": {
      "text/plain": [
       "(64, 12)"
      ]
     },
     "execution_count": 27,
     "metadata": {},
     "output_type": "execute_result"
    }
   ],
   "source": [
    "pd.concat([df_book_tragedy, df_book_tragedy]).shape"
   ]
  },
  {
   "cell_type": "code",
   "execution_count": 28,
   "metadata": {},
   "outputs": [
    {
     "data": {
      "text/plain": [
       "(32, 12)"
      ]
     },
     "execution_count": 28,
     "metadata": {},
     "output_type": "execute_result"
    }
   ],
   "source": [
    "pd.concat([df_book_tragedy, df_book_tragedy], keys=[\"identifier\"]).shape"
   ]
  },
  {
   "cell_type": "markdown",
   "metadata": {},
   "source": [
    "### Difference"
   ]
  },
  {
   "cell_type": "code",
   "execution_count": 38,
   "metadata": {},
   "outputs": [
    {
     "data": {
      "text/plain": [
       "(32, 12)"
      ]
     },
     "execution_count": 38,
     "metadata": {},
     "output_type": "execute_result"
    }
   ],
   "source": [
    "df_book_tragedy[~df_book_tragedy.index.isin(df_book_comedy.index)].shape"
   ]
  },
  {
   "cell_type": "code",
   "execution_count": 44,
   "metadata": {},
   "outputs": [
    {
     "data": {
      "text/plain": [
       "(0, 12)"
      ]
     },
     "execution_count": 44,
     "metadata": {},
     "output_type": "execute_result"
    }
   ],
   "source": [
    "df_book_tragedy[~df_book_tragedy.index.isin(df_book_tragedy.index)].shape"
   ]
  },
  {
   "cell_type": "markdown",
   "metadata": {},
   "source": [
    "### Intersection"
   ]
  },
  {
   "cell_type": "code",
   "execution_count": 53,
   "metadata": {},
   "outputs": [
    {
     "data": {
      "text/plain": [
       "(32, 12)"
      ]
     },
     "execution_count": 53,
     "metadata": {},
     "output_type": "execute_result"
    }
   ],
   "source": [
    "pd.merge(right=df_book_tragedy, left=df_book_tragedy, how=\"inner\").shape"
   ]
  },
  {
   "cell_type": "code",
   "execution_count": 54,
   "metadata": {},
   "outputs": [
    {
     "data": {
      "text/plain": [
       "(0, 12)"
      ]
     },
     "execution_count": 54,
     "metadata": {},
     "output_type": "execute_result"
    }
   ],
   "source": [
    "pd.merge(right=df_book_tragedy, left=df_book_comedy, how=\"inner\").shape"
   ]
  },
  {
   "cell_type": "markdown",
   "metadata": {},
   "source": [
    "## Joins"
   ]
  },
  {
   "cell_type": "code",
   "execution_count": 1,
   "metadata": {},
   "outputs": [],
   "source": [
    "# Inner between books and authors passing by the intermediate table author_book"
   ]
  },
  {
   "cell_type": "code",
   "execution_count": 108,
   "metadata": {},
   "outputs": [],
   "source": [
    "df_book_tragedy_authors = pd.merge(right=df_book_tragedy, left=df_author_book, how=\"inner\", right_on=\"identifier\", left_on=\"book_id\")"
   ]
  },
  {
   "cell_type": "code",
   "execution_count": 109,
   "metadata": {},
   "outputs": [],
   "source": [
    "df_book_tragedy_authors = pd.merge(right=df_book_tragedy_authors, left=df_author, how=\"inner\", right_on=\"author_id\", left_index=True)\n",
    "df_book_tragedy_authors = df_book_tragedy_authors[[\"author_id\",\"name\",\"title\",\"datefield\",\"identifier\"]]"
   ]
  },
  {
   "cell_type": "code",
   "execution_count": 110,
   "metadata": {},
   "outputs": [
    {
     "data": {
      "text/html": [
       "<div>\n",
       "<style scoped>\n",
       "    .dataframe tbody tr th:only-of-type {\n",
       "        vertical-align: middle;\n",
       "    }\n",
       "\n",
       "    .dataframe tbody tr th {\n",
       "        vertical-align: top;\n",
       "    }\n",
       "\n",
       "    .dataframe thead th {\n",
       "        text-align: right;\n",
       "    }\n",
       "</style>\n",
       "<table border=\"1\" class=\"dataframe\">\n",
       "  <thead>\n",
       "    <tr style=\"text-align: right;\">\n",
       "      <th></th>\n",
       "      <th>author_id</th>\n",
       "      <th>name</th>\n",
       "      <th>title</th>\n",
       "      <th>datefield</th>\n",
       "      <th>identifier</th>\n",
       "    </tr>\n",
       "  </thead>\n",
       "  <tbody>\n",
       "    <tr>\n",
       "      <th>12</th>\n",
       "      <td>7</td>\n",
       "      <td>NaN</td>\n",
       "      <td>The Maid of Florence; or, a Woman's Vengeance....</td>\n",
       "      <td>1874.0</td>\n",
       "      <td>1256889</td>\n",
       "    </tr>\n",
       "    <tr>\n",
       "      <th>19</th>\n",
       "      <td>7</td>\n",
       "      <td>NaN</td>\n",
       "      <td>Matilda: a tragedy [in five acts and in verse]...</td>\n",
       "      <td>1775.0</td>\n",
       "      <td>2422448</td>\n",
       "    </tr>\n",
       "    <tr>\n",
       "      <th>22</th>\n",
       "      <td>7</td>\n",
       "      <td>NaN</td>\n",
       "      <td>Richard Cœur de Lion, an historical tragedy [i...</td>\n",
       "      <td>1861.0</td>\n",
       "      <td>3091234</td>\n",
       "    </tr>\n",
       "    <tr>\n",
       "      <th>26</th>\n",
       "      <td>7</td>\n",
       "      <td>NaN</td>\n",
       "      <td>The King's Stratagem, or the Pearl of Poland. ...</td>\n",
       "      <td>1874.0</td>\n",
       "      <td>3492293</td>\n",
       "    </tr>\n",
       "    <tr>\n",
       "      <th>27</th>\n",
       "      <td>7</td>\n",
       "      <td>NaN</td>\n",
       "      <td>The Count de Villeroi; or, the fate of Patriot...</td>\n",
       "      <td>1794.0</td>\n",
       "      <td>3795731</td>\n",
       "    </tr>\n",
       "    <tr>\n",
       "      <th>0</th>\n",
       "      <td>14</td>\n",
       "      <td>ARDEN, Thomas - of Faversham</td>\n",
       "      <td>Arden of Feversham, a tragedy: reprinted from ...</td>\n",
       "      <td>1887.0</td>\n",
       "      <td>106624</td>\n",
       "    </tr>\n",
       "    <tr>\n",
       "      <th>1</th>\n",
       "      <td>20</td>\n",
       "      <td>AYSCOUGH, George Edward.</td>\n",
       "      <td>Semiramis, a tragedy, etc. [In verse.]</td>\n",
       "      <td>1776.0</td>\n",
       "      <td>154917</td>\n",
       "    </tr>\n",
       "    <tr>\n",
       "      <th>2</th>\n",
       "      <td>29</td>\n",
       "      <td>BARTHOLOMEW, John - Dramatist</td>\n",
       "      <td>The Fall of the French Monarchy; or, Louis XVI...</td>\n",
       "      <td>1794.0</td>\n",
       "      <td>215686</td>\n",
       "    </tr>\n",
       "    <tr>\n",
       "      <th>3</th>\n",
       "      <td>60</td>\n",
       "      <td>BROWNING, Robert - the Poet</td>\n",
       "      <td>[Strafford: an historical tragedy.]</td>\n",
       "      <td>1884.0</td>\n",
       "      <td>499453</td>\n",
       "    </tr>\n",
       "    <tr>\n",
       "      <th>4</th>\n",
       "      <td>65</td>\n",
       "      <td>Byron, George Gordon Byron - Baron</td>\n",
       "      <td>Sardanapalus, a tragedy. The Two Foscari, a tr...</td>\n",
       "      <td>1821.0</td>\n",
       "      <td>558547</td>\n",
       "    </tr>\n",
       "  </tbody>\n",
       "</table>\n",
       "</div>"
      ],
      "text/plain": [
       "    author_id                                name  \\\n",
       "12          7                                 NaN   \n",
       "19          7                                 NaN   \n",
       "22          7                                 NaN   \n",
       "26          7                                 NaN   \n",
       "27          7                                 NaN   \n",
       "0          14        ARDEN, Thomas - of Faversham   \n",
       "1          20            AYSCOUGH, George Edward.   \n",
       "2          29       BARTHOLOMEW, John - Dramatist   \n",
       "3          60         BROWNING, Robert - the Poet   \n",
       "4          65  Byron, George Gordon Byron - Baron   \n",
       "\n",
       "                                                title  datefield  identifier  \n",
       "12  The Maid of Florence; or, a Woman's Vengeance....     1874.0     1256889  \n",
       "19  Matilda: a tragedy [in five acts and in verse]...     1775.0     2422448  \n",
       "22  Richard Cœur de Lion, an historical tragedy [i...     1861.0     3091234  \n",
       "26  The King's Stratagem, or the Pearl of Poland. ...     1874.0     3492293  \n",
       "27  The Count de Villeroi; or, the fate of Patriot...     1794.0     3795731  \n",
       "0   Arden of Feversham, a tragedy: reprinted from ...     1887.0      106624  \n",
       "1              Semiramis, a tragedy, etc. [In verse.]     1776.0      154917  \n",
       "2   The Fall of the French Monarchy; or, Louis XVI...     1794.0      215686  \n",
       "3                 [Strafford: an historical tragedy.]     1884.0      499453  \n",
       "4   Sardanapalus, a tragedy. The Two Foscari, a tr...     1821.0      558547  "
      ]
     },
     "execution_count": 110,
     "metadata": {},
     "output_type": "execute_result"
    }
   ],
   "source": [
    "df_book_tragedy_authors.head(10)"
   ]
  },
  {
   "cell_type": "code",
   "execution_count": 111,
   "metadata": {},
   "outputs": [
    {
     "data": {
      "text/html": [
       "<div>\n",
       "<style scoped>\n",
       "    .dataframe tbody tr th:only-of-type {\n",
       "        vertical-align: middle;\n",
       "    }\n",
       "\n",
       "    .dataframe tbody tr th {\n",
       "        vertical-align: top;\n",
       "    }\n",
       "\n",
       "    .dataframe thead th {\n",
       "        text-align: right;\n",
       "    }\n",
       "</style>\n",
       "<table border=\"1\" class=\"dataframe\">\n",
       "  <thead>\n",
       "    <tr style=\"text-align: right;\">\n",
       "      <th></th>\n",
       "      <th>datefield</th>\n",
       "      <th>publisher</th>\n",
       "      <th>title</th>\n",
       "      <th>edition</th>\n",
       "      <th>place</th>\n",
       "      <th>issuance</th>\n",
       "      <th>first_pdf</th>\n",
       "      <th>number_volumes</th>\n",
       "      <th>identifier</th>\n",
       "      <th>fulltext_filename</th>\n",
       "      <th>type</th>\n",
       "      <th>genre</th>\n",
       "    </tr>\n",
       "  </thead>\n",
       "  <tbody>\n",
       "    <tr>\n",
       "      <th>151</th>\n",
       "      <td>1874.0</td>\n",
       "      <td>NaN</td>\n",
       "      <td>The Maid of Florence; or, a Woman's Vengeance....</td>\n",
       "      <td>NaN</td>\n",
       "      <td>London</td>\n",
       "      <td>monographic</td>\n",
       "      <td>lsidyv35e87a54</td>\n",
       "      <td>1</td>\n",
       "      <td>1256889</td>\n",
       "      <td>001256889_01_text.json</td>\n",
       "      <td>tragedy</td>\n",
       "      <td>Drama</td>\n",
       "    </tr>\n",
       "  </tbody>\n",
       "</table>\n",
       "</div>"
      ],
      "text/plain": [
       "     datefield publisher                                              title  \\\n",
       "151     1874.0       NaN  The Maid of Florence; or, a Woman's Vengeance....   \n",
       "\n",
       "    edition   place     issuance       first_pdf  number_volumes  identifier  \\\n",
       "151     NaN  London  monographic  lsidyv35e87a54               1     1256889   \n",
       "\n",
       "          fulltext_filename     type  genre  \n",
       "151  001256889_01_text.json  tragedy  Drama  "
      ]
     },
     "execution_count": 111,
     "metadata": {},
     "output_type": "execute_result"
    }
   ],
   "source": [
    "df_book[df_book[\"identifier\"] == 1256889]"
   ]
  },
  {
   "cell_type": "code",
   "execution_count": 112,
   "metadata": {},
   "outputs": [
    {
     "data": {
      "text/html": [
       "<div>\n",
       "<style scoped>\n",
       "    .dataframe tbody tr th:only-of-type {\n",
       "        vertical-align: middle;\n",
       "    }\n",
       "\n",
       "    .dataframe tbody tr th {\n",
       "        vertical-align: top;\n",
       "    }\n",
       "\n",
       "    .dataframe thead th {\n",
       "        text-align: right;\n",
       "    }\n",
       "</style>\n",
       "<table border=\"1\" class=\"dataframe\">\n",
       "  <thead>\n",
       "    <tr style=\"text-align: right;\">\n",
       "      <th></th>\n",
       "      <th>book_id</th>\n",
       "      <th>author_id</th>\n",
       "    </tr>\n",
       "  </thead>\n",
       "  <tbody>\n",
       "    <tr>\n",
       "      <th>151</th>\n",
       "      <td>1256889</td>\n",
       "      <td>7</td>\n",
       "    </tr>\n",
       "  </tbody>\n",
       "</table>\n",
       "</div>"
      ],
      "text/plain": [
       "     book_id  author_id\n",
       "151  1256889          7"
      ]
     },
     "execution_count": 112,
     "metadata": {},
     "output_type": "execute_result"
    }
   ],
   "source": [
    "df_author_book[df_author_book[\"book_id\"] == 1256889]"
   ]
  },
  {
   "cell_type": "code",
   "execution_count": 113,
   "metadata": {},
   "outputs": [
    {
     "data": {
      "text/html": [
       "<div>\n",
       "<style scoped>\n",
       "    .dataframe tbody tr th:only-of-type {\n",
       "        vertical-align: middle;\n",
       "    }\n",
       "\n",
       "    .dataframe tbody tr th {\n",
       "        vertical-align: top;\n",
       "    }\n",
       "\n",
       "    .dataframe thead th {\n",
       "        text-align: right;\n",
       "    }\n",
       "</style>\n",
       "<table border=\"1\" class=\"dataframe\">\n",
       "  <thead>\n",
       "    <tr style=\"text-align: right;\">\n",
       "      <th></th>\n",
       "      <th>name</th>\n",
       "    </tr>\n",
       "  </thead>\n",
       "  <tbody>\n",
       "    <tr>\n",
       "      <th>7</th>\n",
       "      <td>NaN</td>\n",
       "    </tr>\n",
       "  </tbody>\n",
       "</table>\n",
       "</div>"
      ],
      "text/plain": [
       "  name\n",
       "7  NaN"
      ]
     },
     "execution_count": 113,
     "metadata": {},
     "output_type": "execute_result"
    }
   ],
   "source": [
    "df_author[df_author.index == 7]"
   ]
  },
  {
   "cell_type": "markdown",
   "metadata": {},
   "source": [
    "**Question**: try to drop the author_id 7 (no or unknown author) from the df_author table, and try to inner join again. What happens?"
   ]
  },
  {
   "cell_type": "code",
   "execution_count": 115,
   "metadata": {},
   "outputs": [
    {
     "name": "stdout",
     "output_type": "stream",
     "text": [
      "(365, 1)\n",
      "(364, 1)\n"
     ]
    }
   ],
   "source": [
    "print(df_author.shape)\n",
    "df_author_reduced = df_author[~df_author[\"name\"].isna()]\n",
    "print(df_author_reduced.shape)"
   ]
  },
  {
   "cell_type": "code",
   "execution_count": null,
   "metadata": {},
   "outputs": [],
   "source": [
    "# Left"
   ]
  },
  {
   "cell_type": "code",
   "execution_count": 116,
   "metadata": {},
   "outputs": [
    {
     "data": {
      "text/html": [
       "<div>\n",
       "<style scoped>\n",
       "    .dataframe tbody tr th:only-of-type {\n",
       "        vertical-align: middle;\n",
       "    }\n",
       "\n",
       "    .dataframe tbody tr th {\n",
       "        vertical-align: top;\n",
       "    }\n",
       "\n",
       "    .dataframe thead th {\n",
       "        text-align: right;\n",
       "    }\n",
       "</style>\n",
       "<table border=\"1\" class=\"dataframe\">\n",
       "  <thead>\n",
       "    <tr style=\"text-align: right;\">\n",
       "      <th></th>\n",
       "      <th>name_x</th>\n",
       "      <th>author_id</th>\n",
       "      <th>name_y</th>\n",
       "      <th>title</th>\n",
       "      <th>datefield</th>\n",
       "      <th>identifier</th>\n",
       "    </tr>\n",
       "  </thead>\n",
       "  <tbody>\n",
       "    <tr>\n",
       "      <th>31</th>\n",
       "      <td>A. A.</td>\n",
       "      <td>0</td>\n",
       "      <td>NaN</td>\n",
       "      <td>NaN</td>\n",
       "      <td>NaN</td>\n",
       "      <td>NaN</td>\n",
       "    </tr>\n",
       "    <tr>\n",
       "      <th>31</th>\n",
       "      <td>Abbott, Evelyn</td>\n",
       "      <td>1</td>\n",
       "      <td>NaN</td>\n",
       "      <td>NaN</td>\n",
       "      <td>NaN</td>\n",
       "      <td>NaN</td>\n",
       "    </tr>\n",
       "    <tr>\n",
       "      <th>31</th>\n",
       "      <td>A'BECKETT, Gilbert Abbott.</td>\n",
       "      <td>2</td>\n",
       "      <td>NaN</td>\n",
       "      <td>NaN</td>\n",
       "      <td>NaN</td>\n",
       "      <td>NaN</td>\n",
       "    </tr>\n",
       "    <tr>\n",
       "      <th>31</th>\n",
       "      <td>Laffan, De Courcy - Mrs</td>\n",
       "      <td>3</td>\n",
       "      <td>NaN</td>\n",
       "      <td>NaN</td>\n",
       "      <td>NaN</td>\n",
       "      <td>NaN</td>\n",
       "    </tr>\n",
       "    <tr>\n",
       "      <th>31</th>\n",
       "      <td>Adams, W. H. Davenport (William Henry Davenport)</td>\n",
       "      <td>4</td>\n",
       "      <td>NaN</td>\n",
       "      <td>NaN</td>\n",
       "      <td>NaN</td>\n",
       "      <td>NaN</td>\n",
       "    </tr>\n",
       "    <tr>\n",
       "      <th>31</th>\n",
       "      <td>ALGIE, James.</td>\n",
       "      <td>5</td>\n",
       "      <td>NaN</td>\n",
       "      <td>NaN</td>\n",
       "      <td>NaN</td>\n",
       "      <td>NaN</td>\n",
       "    </tr>\n",
       "    <tr>\n",
       "      <th>31</th>\n",
       "      <td>ALLAN, J. T.</td>\n",
       "      <td>6</td>\n",
       "      <td>NaN</td>\n",
       "      <td>NaN</td>\n",
       "      <td>NaN</td>\n",
       "      <td>NaN</td>\n",
       "    </tr>\n",
       "    <tr>\n",
       "      <th>31</th>\n",
       "      <td>Andersen, H. C. (Hans Christian)</td>\n",
       "      <td>8</td>\n",
       "      <td>NaN</td>\n",
       "      <td>NaN</td>\n",
       "      <td>NaN</td>\n",
       "      <td>NaN</td>\n",
       "    </tr>\n",
       "    <tr>\n",
       "      <th>31</th>\n",
       "      <td>ANDERSON, Alexander - of Kirkconnell</td>\n",
       "      <td>9</td>\n",
       "      <td>NaN</td>\n",
       "      <td>NaN</td>\n",
       "      <td>NaN</td>\n",
       "      <td>NaN</td>\n",
       "    </tr>\n",
       "    <tr>\n",
       "      <th>31</th>\n",
       "      <td>ANDREWS, Christopher Columbus.</td>\n",
       "      <td>10</td>\n",
       "      <td>NaN</td>\n",
       "      <td>NaN</td>\n",
       "      <td>NaN</td>\n",
       "      <td>NaN</td>\n",
       "    </tr>\n",
       "  </tbody>\n",
       "</table>\n",
       "</div>"
      ],
      "text/plain": [
       "                                              name_x  author_id name_y title  \\\n",
       "31                                             A. A.          0    NaN   NaN   \n",
       "31                                    Abbott, Evelyn          1    NaN   NaN   \n",
       "31                        A'BECKETT, Gilbert Abbott.          2    NaN   NaN   \n",
       "31                           Laffan, De Courcy - Mrs          3    NaN   NaN   \n",
       "31  Adams, W. H. Davenport (William Henry Davenport)          4    NaN   NaN   \n",
       "31                                     ALGIE, James.          5    NaN   NaN   \n",
       "31                                      ALLAN, J. T.          6    NaN   NaN   \n",
       "31                  Andersen, H. C. (Hans Christian)          8    NaN   NaN   \n",
       "31              ANDERSON, Alexander - of Kirkconnell          9    NaN   NaN   \n",
       "31                    ANDREWS, Christopher Columbus.         10    NaN   NaN   \n",
       "\n",
       "    datefield  identifier  \n",
       "31        NaN         NaN  \n",
       "31        NaN         NaN  \n",
       "31        NaN         NaN  \n",
       "31        NaN         NaN  \n",
       "31        NaN         NaN  \n",
       "31        NaN         NaN  \n",
       "31        NaN         NaN  \n",
       "31        NaN         NaN  \n",
       "31        NaN         NaN  \n",
       "31        NaN         NaN  "
      ]
     },
     "execution_count": 116,
     "metadata": {},
     "output_type": "execute_result"
    }
   ],
   "source": [
    "pd.merge(right=df_book_tragedy_authors, left=df_author_reduced, how=\"left\", right_on=\"author_id\", left_index=True).head(10)"
   ]
  },
  {
   "cell_type": "code",
   "execution_count": 117,
   "metadata": {},
   "outputs": [],
   "source": [
    "# Right"
   ]
  },
  {
   "cell_type": "code",
   "execution_count": 118,
   "metadata": {},
   "outputs": [
    {
     "data": {
      "text/html": [
       "<div>\n",
       "<style scoped>\n",
       "    .dataframe tbody tr th:only-of-type {\n",
       "        vertical-align: middle;\n",
       "    }\n",
       "\n",
       "    .dataframe tbody tr th {\n",
       "        vertical-align: top;\n",
       "    }\n",
       "\n",
       "    .dataframe thead th {\n",
       "        text-align: right;\n",
       "    }\n",
       "</style>\n",
       "<table border=\"1\" class=\"dataframe\">\n",
       "  <thead>\n",
       "    <tr style=\"text-align: right;\">\n",
       "      <th></th>\n",
       "      <th>name_x</th>\n",
       "      <th>author_id</th>\n",
       "      <th>name_y</th>\n",
       "      <th>title</th>\n",
       "      <th>datefield</th>\n",
       "      <th>identifier</th>\n",
       "    </tr>\n",
       "  </thead>\n",
       "  <tbody>\n",
       "    <tr>\n",
       "      <th>12</th>\n",
       "      <td>NaN</td>\n",
       "      <td>7</td>\n",
       "      <td>NaN</td>\n",
       "      <td>The Maid of Florence; or, a Woman's Vengeance....</td>\n",
       "      <td>1874.0</td>\n",
       "      <td>1256889</td>\n",
       "    </tr>\n",
       "    <tr>\n",
       "      <th>19</th>\n",
       "      <td>NaN</td>\n",
       "      <td>7</td>\n",
       "      <td>NaN</td>\n",
       "      <td>Matilda: a tragedy [in five acts and in verse]...</td>\n",
       "      <td>1775.0</td>\n",
       "      <td>2422448</td>\n",
       "    </tr>\n",
       "    <tr>\n",
       "      <th>22</th>\n",
       "      <td>NaN</td>\n",
       "      <td>7</td>\n",
       "      <td>NaN</td>\n",
       "      <td>Richard Cœur de Lion, an historical tragedy [i...</td>\n",
       "      <td>1861.0</td>\n",
       "      <td>3091234</td>\n",
       "    </tr>\n",
       "    <tr>\n",
       "      <th>26</th>\n",
       "      <td>NaN</td>\n",
       "      <td>7</td>\n",
       "      <td>NaN</td>\n",
       "      <td>The King's Stratagem, or the Pearl of Poland. ...</td>\n",
       "      <td>1874.0</td>\n",
       "      <td>3492293</td>\n",
       "    </tr>\n",
       "    <tr>\n",
       "      <th>27</th>\n",
       "      <td>NaN</td>\n",
       "      <td>7</td>\n",
       "      <td>NaN</td>\n",
       "      <td>The Count de Villeroi; or, the fate of Patriot...</td>\n",
       "      <td>1794.0</td>\n",
       "      <td>3795731</td>\n",
       "    </tr>\n",
       "    <tr>\n",
       "      <th>0</th>\n",
       "      <td>ARDEN, Thomas - of Faversham</td>\n",
       "      <td>14</td>\n",
       "      <td>ARDEN, Thomas - of Faversham</td>\n",
       "      <td>Arden of Feversham, a tragedy: reprinted from ...</td>\n",
       "      <td>1887.0</td>\n",
       "      <td>106624</td>\n",
       "    </tr>\n",
       "    <tr>\n",
       "      <th>1</th>\n",
       "      <td>AYSCOUGH, George Edward.</td>\n",
       "      <td>20</td>\n",
       "      <td>AYSCOUGH, George Edward.</td>\n",
       "      <td>Semiramis, a tragedy, etc. [In verse.]</td>\n",
       "      <td>1776.0</td>\n",
       "      <td>154917</td>\n",
       "    </tr>\n",
       "    <tr>\n",
       "      <th>2</th>\n",
       "      <td>BARTHOLOMEW, John - Dramatist</td>\n",
       "      <td>29</td>\n",
       "      <td>BARTHOLOMEW, John - Dramatist</td>\n",
       "      <td>The Fall of the French Monarchy; or, Louis XVI...</td>\n",
       "      <td>1794.0</td>\n",
       "      <td>215686</td>\n",
       "    </tr>\n",
       "    <tr>\n",
       "      <th>3</th>\n",
       "      <td>BROWNING, Robert - the Poet</td>\n",
       "      <td>60</td>\n",
       "      <td>BROWNING, Robert - the Poet</td>\n",
       "      <td>[Strafford: an historical tragedy.]</td>\n",
       "      <td>1884.0</td>\n",
       "      <td>499453</td>\n",
       "    </tr>\n",
       "    <tr>\n",
       "      <th>4</th>\n",
       "      <td>Byron, George Gordon Byron - Baron</td>\n",
       "      <td>65</td>\n",
       "      <td>Byron, George Gordon Byron - Baron</td>\n",
       "      <td>Sardanapalus, a tragedy. The Two Foscari, a tr...</td>\n",
       "      <td>1821.0</td>\n",
       "      <td>558547</td>\n",
       "    </tr>\n",
       "  </tbody>\n",
       "</table>\n",
       "</div>"
      ],
      "text/plain": [
       "                                name_x  author_id  \\\n",
       "12                                 NaN          7   \n",
       "19                                 NaN          7   \n",
       "22                                 NaN          7   \n",
       "26                                 NaN          7   \n",
       "27                                 NaN          7   \n",
       "0         ARDEN, Thomas - of Faversham         14   \n",
       "1             AYSCOUGH, George Edward.         20   \n",
       "2        BARTHOLOMEW, John - Dramatist         29   \n",
       "3          BROWNING, Robert - the Poet         60   \n",
       "4   Byron, George Gordon Byron - Baron         65   \n",
       "\n",
       "                                name_y  \\\n",
       "12                                 NaN   \n",
       "19                                 NaN   \n",
       "22                                 NaN   \n",
       "26                                 NaN   \n",
       "27                                 NaN   \n",
       "0         ARDEN, Thomas - of Faversham   \n",
       "1             AYSCOUGH, George Edward.   \n",
       "2        BARTHOLOMEW, John - Dramatist   \n",
       "3          BROWNING, Robert - the Poet   \n",
       "4   Byron, George Gordon Byron - Baron   \n",
       "\n",
       "                                                title  datefield  identifier  \n",
       "12  The Maid of Florence; or, a Woman's Vengeance....     1874.0     1256889  \n",
       "19  Matilda: a tragedy [in five acts and in verse]...     1775.0     2422448  \n",
       "22  Richard Cœur de Lion, an historical tragedy [i...     1861.0     3091234  \n",
       "26  The King's Stratagem, or the Pearl of Poland. ...     1874.0     3492293  \n",
       "27  The Count de Villeroi; or, the fate of Patriot...     1794.0     3795731  \n",
       "0   Arden of Feversham, a tragedy: reprinted from ...     1887.0      106624  \n",
       "1              Semiramis, a tragedy, etc. [In verse.]     1776.0      154917  \n",
       "2   The Fall of the French Monarchy; or, Louis XVI...     1794.0      215686  \n",
       "3                 [Strafford: an historical tragedy.]     1884.0      499453  \n",
       "4   Sardanapalus, a tragedy. The Two Foscari, a tr...     1821.0      558547  "
      ]
     },
     "execution_count": 118,
     "metadata": {},
     "output_type": "execute_result"
    }
   ],
   "source": [
    "pd.merge(right=df_book_tragedy_authors, left=df_author_reduced, how=\"right\", right_on=\"author_id\", left_index=True).head(10)"
   ]
  },
  {
   "cell_type": "code",
   "execution_count": 119,
   "metadata": {},
   "outputs": [],
   "source": [
    "# Question above"
   ]
  },
  {
   "cell_type": "code",
   "execution_count": 120,
   "metadata": {},
   "outputs": [
    {
     "data": {
      "text/html": [
       "<div>\n",
       "<style scoped>\n",
       "    .dataframe tbody tr th:only-of-type {\n",
       "        vertical-align: middle;\n",
       "    }\n",
       "\n",
       "    .dataframe tbody tr th {\n",
       "        vertical-align: top;\n",
       "    }\n",
       "\n",
       "    .dataframe thead th {\n",
       "        text-align: right;\n",
       "    }\n",
       "</style>\n",
       "<table border=\"1\" class=\"dataframe\">\n",
       "  <thead>\n",
       "    <tr style=\"text-align: right;\">\n",
       "      <th></th>\n",
       "      <th>name_x</th>\n",
       "      <th>author_id</th>\n",
       "      <th>name_y</th>\n",
       "      <th>title</th>\n",
       "      <th>datefield</th>\n",
       "      <th>identifier</th>\n",
       "    </tr>\n",
       "  </thead>\n",
       "  <tbody>\n",
       "    <tr>\n",
       "      <th>0</th>\n",
       "      <td>ARDEN, Thomas - of Faversham</td>\n",
       "      <td>14</td>\n",
       "      <td>ARDEN, Thomas - of Faversham</td>\n",
       "      <td>Arden of Feversham, a tragedy: reprinted from ...</td>\n",
       "      <td>1887.0</td>\n",
       "      <td>106624</td>\n",
       "    </tr>\n",
       "    <tr>\n",
       "      <th>1</th>\n",
       "      <td>AYSCOUGH, George Edward.</td>\n",
       "      <td>20</td>\n",
       "      <td>AYSCOUGH, George Edward.</td>\n",
       "      <td>Semiramis, a tragedy, etc. [In verse.]</td>\n",
       "      <td>1776.0</td>\n",
       "      <td>154917</td>\n",
       "    </tr>\n",
       "    <tr>\n",
       "      <th>2</th>\n",
       "      <td>BARTHOLOMEW, John - Dramatist</td>\n",
       "      <td>29</td>\n",
       "      <td>BARTHOLOMEW, John - Dramatist</td>\n",
       "      <td>The Fall of the French Monarchy; or, Louis XVI...</td>\n",
       "      <td>1794.0</td>\n",
       "      <td>215686</td>\n",
       "    </tr>\n",
       "    <tr>\n",
       "      <th>3</th>\n",
       "      <td>BROWNING, Robert - the Poet</td>\n",
       "      <td>60</td>\n",
       "      <td>BROWNING, Robert - the Poet</td>\n",
       "      <td>[Strafford: an historical tragedy.]</td>\n",
       "      <td>1884.0</td>\n",
       "      <td>499453</td>\n",
       "    </tr>\n",
       "    <tr>\n",
       "      <th>4</th>\n",
       "      <td>Byron, George Gordon Byron - Baron</td>\n",
       "      <td>65</td>\n",
       "      <td>Byron, George Gordon Byron - Baron</td>\n",
       "      <td>Sardanapalus, a tragedy. The Two Foscari, a tr...</td>\n",
       "      <td>1821.0</td>\n",
       "      <td>558547</td>\n",
       "    </tr>\n",
       "    <tr>\n",
       "      <th>5</th>\n",
       "      <td>CAUNTER, Richard Macdonald.</td>\n",
       "      <td>78</td>\n",
       "      <td>CAUNTER, Richard Macdonald.</td>\n",
       "      <td>Attila, a tragedy; and other poems</td>\n",
       "      <td>1832.0</td>\n",
       "      <td>638231</td>\n",
       "    </tr>\n",
       "    <tr>\n",
       "      <th>6</th>\n",
       "      <td>CLARKE, Joseph Ignatius Constantine.</td>\n",
       "      <td>83</td>\n",
       "      <td>CLARKE, Joseph Ignatius Constantine.</td>\n",
       "      <td>Robert Emmet. A tragedy of Irish history. [A p...</td>\n",
       "      <td>1888.0</td>\n",
       "      <td>715387</td>\n",
       "    </tr>\n",
       "    <tr>\n",
       "      <th>7</th>\n",
       "      <td>Cumberland, Richard</td>\n",
       "      <td>102</td>\n",
       "      <td>Cumberland, Richard</td>\n",
       "      <td>The Battle of Hastings, a tragedy, etc</td>\n",
       "      <td>1778.0</td>\n",
       "      <td>835040</td>\n",
       "    </tr>\n",
       "    <tr>\n",
       "      <th>8</th>\n",
       "      <td>DE LA PASTURE, Elizabeth Lydia Rosabelle - aft...</td>\n",
       "      <td>111</td>\n",
       "      <td>DE LA PASTURE, Elizabeth Lydia Rosabelle - aft...</td>\n",
       "      <td>A Toy Tragedy</td>\n",
       "      <td>1894.0</td>\n",
       "      <td>897980</td>\n",
       "    </tr>\n",
       "    <tr>\n",
       "      <th>9</th>\n",
       "      <td>Dryden, John.</td>\n",
       "      <td>119</td>\n",
       "      <td>Dryden, John.</td>\n",
       "      <td>The Duke of Guise. A tragedy. Acted by their M...</td>\n",
       "      <td>1683.0</td>\n",
       "      <td>987705</td>\n",
       "    </tr>\n",
       "  </tbody>\n",
       "</table>\n",
       "</div>"
      ],
      "text/plain": [
       "                                              name_x  author_id  \\\n",
       "0                       ARDEN, Thomas - of Faversham         14   \n",
       "1                           AYSCOUGH, George Edward.         20   \n",
       "2                      BARTHOLOMEW, John - Dramatist         29   \n",
       "3                        BROWNING, Robert - the Poet         60   \n",
       "4                 Byron, George Gordon Byron - Baron         65   \n",
       "5                        CAUNTER, Richard Macdonald.         78   \n",
       "6               CLARKE, Joseph Ignatius Constantine.         83   \n",
       "7                                Cumberland, Richard        102   \n",
       "8  DE LA PASTURE, Elizabeth Lydia Rosabelle - aft...        111   \n",
       "9                                      Dryden, John.        119   \n",
       "\n",
       "                                              name_y  \\\n",
       "0                       ARDEN, Thomas - of Faversham   \n",
       "1                           AYSCOUGH, George Edward.   \n",
       "2                      BARTHOLOMEW, John - Dramatist   \n",
       "3                        BROWNING, Robert - the Poet   \n",
       "4                 Byron, George Gordon Byron - Baron   \n",
       "5                        CAUNTER, Richard Macdonald.   \n",
       "6               CLARKE, Joseph Ignatius Constantine.   \n",
       "7                                Cumberland, Richard   \n",
       "8  DE LA PASTURE, Elizabeth Lydia Rosabelle - aft...   \n",
       "9                                      Dryden, John.   \n",
       "\n",
       "                                               title  datefield  identifier  \n",
       "0  Arden of Feversham, a tragedy: reprinted from ...     1887.0      106624  \n",
       "1             Semiramis, a tragedy, etc. [In verse.]     1776.0      154917  \n",
       "2  The Fall of the French Monarchy; or, Louis XVI...     1794.0      215686  \n",
       "3                [Strafford: an historical tragedy.]     1884.0      499453  \n",
       "4  Sardanapalus, a tragedy. The Two Foscari, a tr...     1821.0      558547  \n",
       "5                 Attila, a tragedy; and other poems     1832.0      638231  \n",
       "6  Robert Emmet. A tragedy of Irish history. [A p...     1888.0      715387  \n",
       "7             The Battle of Hastings, a tragedy, etc     1778.0      835040  \n",
       "8                                      A Toy Tragedy     1894.0      897980  \n",
       "9  The Duke of Guise. A tragedy. Acted by their M...     1683.0      987705  "
      ]
     },
     "execution_count": 120,
     "metadata": {},
     "output_type": "execute_result"
    }
   ],
   "source": [
    "pd.merge(right=df_book_tragedy_authors, left=df_author_reduced, how=\"inner\", right_on=\"author_id\", left_index=True).head(10)"
   ]
  },
  {
   "cell_type": "markdown",
   "metadata": {},
   "source": [
    "**Questions**:\n",
    "\n",
    "* Add the authors to the 'df_book_comedy' dataframe, dropping books without an author.\n",
    "* How many books has the most prolific author in our dataset authored?\n",
    "* Create a dataframe without the repeated name_y and name_x columns above."
   ]
  },
  {
   "cell_type": "markdown",
   "metadata": {},
   "source": [
    "## Pivoting\n",
    "\n",
    "This is bonus content!\n",
    "\n",
    "For more (including stacking with multi-indexes and unpivoting or melting), see https://pandas.pydata.org/pandas-docs/stable/user_guide/reshaping.html"
   ]
  },
  {
   "cell_type": "code",
   "execution_count": 121,
   "metadata": {},
   "outputs": [],
   "source": [
    "data = {'place': [\"London\",\"London\",\"Berlin\",\"Berlin\",\"Rome\",\"Rome\"],\n",
    "       'year': [1800, 1900, 1800, 1900, 1800, 1900],\n",
    "       'values': [10,20,30,40,50,60]}\n",
    "toy_df = pd.DataFrame(data, columns=['place','year','values'])"
   ]
  },
  {
   "cell_type": "code",
   "execution_count": 122,
   "metadata": {},
   "outputs": [
    {
     "data": {
      "text/html": [
       "<div>\n",
       "<style scoped>\n",
       "    .dataframe tbody tr th:only-of-type {\n",
       "        vertical-align: middle;\n",
       "    }\n",
       "\n",
       "    .dataframe tbody tr th {\n",
       "        vertical-align: top;\n",
       "    }\n",
       "\n",
       "    .dataframe thead th {\n",
       "        text-align: right;\n",
       "    }\n",
       "</style>\n",
       "<table border=\"1\" class=\"dataframe\">\n",
       "  <thead>\n",
       "    <tr style=\"text-align: right;\">\n",
       "      <th></th>\n",
       "      <th>place</th>\n",
       "      <th>year</th>\n",
       "      <th>values</th>\n",
       "    </tr>\n",
       "  </thead>\n",
       "  <tbody>\n",
       "    <tr>\n",
       "      <th>0</th>\n",
       "      <td>London</td>\n",
       "      <td>1800</td>\n",
       "      <td>10</td>\n",
       "    </tr>\n",
       "    <tr>\n",
       "      <th>1</th>\n",
       "      <td>London</td>\n",
       "      <td>1900</td>\n",
       "      <td>20</td>\n",
       "    </tr>\n",
       "    <tr>\n",
       "      <th>2</th>\n",
       "      <td>Berlin</td>\n",
       "      <td>1800</td>\n",
       "      <td>30</td>\n",
       "    </tr>\n",
       "    <tr>\n",
       "      <th>3</th>\n",
       "      <td>Berlin</td>\n",
       "      <td>1900</td>\n",
       "      <td>40</td>\n",
       "    </tr>\n",
       "    <tr>\n",
       "      <th>4</th>\n",
       "      <td>Rome</td>\n",
       "      <td>1800</td>\n",
       "      <td>50</td>\n",
       "    </tr>\n",
       "    <tr>\n",
       "      <th>5</th>\n",
       "      <td>Rome</td>\n",
       "      <td>1900</td>\n",
       "      <td>60</td>\n",
       "    </tr>\n",
       "  </tbody>\n",
       "</table>\n",
       "</div>"
      ],
      "text/plain": [
       "    place  year  values\n",
       "0  London  1800      10\n",
       "1  London  1900      20\n",
       "2  Berlin  1800      30\n",
       "3  Berlin  1900      40\n",
       "4    Rome  1800      50\n",
       "5    Rome  1900      60"
      ]
     },
     "execution_count": 122,
     "metadata": {},
     "output_type": "execute_result"
    }
   ],
   "source": [
    "toy_df"
   ]
  },
  {
   "cell_type": "code",
   "execution_count": 123,
   "metadata": {},
   "outputs": [],
   "source": [
    "pivoted = toy_df.pivot(index='year', columns='place', values='values')"
   ]
  },
  {
   "cell_type": "code",
   "execution_count": 124,
   "metadata": {},
   "outputs": [
    {
     "data": {
      "text/html": [
       "<div>\n",
       "<style scoped>\n",
       "    .dataframe tbody tr th:only-of-type {\n",
       "        vertical-align: middle;\n",
       "    }\n",
       "\n",
       "    .dataframe tbody tr th {\n",
       "        vertical-align: top;\n",
       "    }\n",
       "\n",
       "    .dataframe thead th {\n",
       "        text-align: right;\n",
       "    }\n",
       "</style>\n",
       "<table border=\"1\" class=\"dataframe\">\n",
       "  <thead>\n",
       "    <tr style=\"text-align: right;\">\n",
       "      <th>place</th>\n",
       "      <th>Berlin</th>\n",
       "      <th>London</th>\n",
       "      <th>Rome</th>\n",
       "    </tr>\n",
       "    <tr>\n",
       "      <th>year</th>\n",
       "      <th></th>\n",
       "      <th></th>\n",
       "      <th></th>\n",
       "    </tr>\n",
       "  </thead>\n",
       "  <tbody>\n",
       "    <tr>\n",
       "      <th>1800</th>\n",
       "      <td>30</td>\n",
       "      <td>10</td>\n",
       "      <td>50</td>\n",
       "    </tr>\n",
       "    <tr>\n",
       "      <th>1900</th>\n",
       "      <td>40</td>\n",
       "      <td>20</td>\n",
       "      <td>60</td>\n",
       "    </tr>\n",
       "  </tbody>\n",
       "</table>\n",
       "</div>"
      ],
      "text/plain": [
       "place  Berlin  London  Rome\n",
       "year                       \n",
       "1800       30      10    50\n",
       "1900       40      20    60"
      ]
     },
     "execution_count": 124,
     "metadata": {},
     "output_type": "execute_result"
    }
   ],
   "source": [
    "pivoted"
   ]
  }
 ],
 "metadata": {
  "kernelspec": {
   "display_name": "Python 3",
   "language": "python",
   "name": "python3"
  },
  "language_info": {
   "codemirror_mode": {
    "name": "ipython",
    "version": 3
   },
   "file_extension": ".py",
   "mimetype": "text/x-python",
   "name": "python",
   "nbconvert_exporter": "python",
   "pygments_lexer": "ipython3",
   "version": "3.7.3"
  }
 },
 "nbformat": 4,
 "nbformat_minor": 2
}
