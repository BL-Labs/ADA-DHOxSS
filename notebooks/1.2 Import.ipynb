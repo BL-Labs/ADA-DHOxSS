{
 "cells": [
  {
   "cell_type": "markdown",
   "metadata": {},
   "source": [
    "# 1.2 Import"
   ]
  },
  {
   "cell_type": "markdown",
   "metadata": {},
   "source": [
    "## XML"
   ]
  },
  {
   "cell_type": "markdown",
   "metadata": {},
   "source": [
    "### `BeautifulSoup`"
   ]
  },
  {
   "cell_type": "markdown",
   "metadata": {},
   "source": [
    "There are several Python libraries to parse XML but `BeautifulSoup` is somehow the swiss knife of XML parsing.\n",
    "\n",
    "It can parse HTML, XML, as well as ill-formed or broken XML documents (very useful for legacy XML or even SGML data)."
   ]
  },
  {
   "cell_type": "code",
   "execution_count": 11,
   "metadata": {},
   "outputs": [],
   "source": [
    "import os\n",
    "import bs4\n",
    "from bs4 import BeautifulSoup"
   ]
  },
  {
   "cell_type": "code",
   "execution_count": 3,
   "metadata": {},
   "outputs": [],
   "source": [
    "data_folder = '../data/altoxml/'"
   ]
  },
  {
   "cell_type": "code",
   "execution_count": 28,
   "metadata": {},
   "outputs": [],
   "source": [
    "# let's get the path of XML files\n",
    "# we filter only files with XML extension\n",
    "# it can be useful to ignore e.g. `.DS_Store` files (under MacOS)\n",
    "\n",
    "xml_files = [\n",
    "    os.path.join(data_folder, file)\n",
    "    for file in os.listdir(data_folder)\n",
    "    if \".xml\" in file\n",
    "]"
   ]
  },
  {
   "cell_type": "code",
   "execution_count": 6,
   "metadata": {},
   "outputs": [
    {
     "data": {
      "text/plain": [
       "['../data/altoxml/27971740_1890-04-01_38_077_0_001.xml',\n",
       " '../data/altoxml/27971740_1890-04-01_38_077_0_002.xml',\n",
       " '../data/altoxml/27971740_1890-04-01_38_077_0_003.xml',\n",
       " '../data/altoxml/27971740_1890-04-01_38_077_0_004.xml']"
      ]
     },
     "execution_count": 6,
     "metadata": {},
     "output_type": "execute_result"
    }
   ],
   "source": [
    "xml_files"
   ]
  },
  {
   "cell_type": "code",
   "execution_count": 30,
   "metadata": {
    "collapsed": true
   },
   "outputs": [
    {
     "name": "stdout",
     "output_type": "stream",
     "text": [
      "﻿<?xml version=\"1.0\" encoding=\"UTF-8\" standalone=\"yes\" ?>\r\n",
      "<alto xmlns=\"http://www.loc.gov/standards/alto/ns-v2#\" xmlns:xlink=\"http://www.w3.org/1999/xlink\" xmlns:xsi=\"http://www.w3.org/2001/XMLSchema-instance\" xsi:schemaLocation=\"http://www.loc.gov/standards/alto/ns-v2# http://www.loc.gov/standards/alto/alto-v2.0.xsd\">\r\n",
      "    <Description>\r\n",
      "        <MeasurementUnit>pixel</MeasurementUnit>\r\n",
      "        <OCRProcessing ID=\"IdOcr\">\r\n",
      "            <ocrProcessingStep>\r\n",
      "                <processingDateTime>2014-10-22</processingDateTime>\r\n",
      "                <processingSoftware>\r\n",
      "                    <softwareCreator>ABBYY</softwareCreator>\r\n",
      "                    <softwareName>ABBYY FineReader Engine</softwareName>\r\n",
      "                    <softwareVersion>11</softwareVersion>\r\n",
      "                </processingSoftware>\r\n",
      "            </ocrProcessingStep>\r\n",
      "        </OCRProcessing>\r\n",
      "    </Description>\r\n",
      "    <Styles>\r\n",
      "        <TextStyle ID=\"font0\" FONTFAMILY=\"Times New Roman\" FONTSIZE=\"7\" />\r\n",
      "        <TextStyle ID=\"font1\" FONTFAMILY=\"Times New Roman\" FONTSIZE=\"8\" />\r\n",
      "        <TextStyle ID=\"font2\" FONTFAMILY=\"Times New Roman\" FONTSIZE=\"9\" />\r\n",
      "        <TextStyle ID=\"font3\" FONTFAMILY=\"Times New Roman\" FONTSIZE=\"11\" />\r\n",
      "        <TextStyle ID=\"font4\" FONTFAMILY=\"Times New Roman\" FONTSIZE=\"14\" />\r\n",
      "        <TextStyle ID=\"font5\" FONTFAMILY=\"Times New Roman\" FONTSIZE=\"21\" />\r\n",
      "        <TextStyle ID=\"font6\" FONTFAMILY=\"Times New Roman\" FONTSIZE=\"23\" />\r\n",
      "        <TextStyle ID=\"font7\" FONTFAMILY=\"Times New Roman\" FONTSIZE=\"34\" />\r\n",
      "        <TextStyle ID=\"font8\" FONTFAMILY=\"Times New Roman\" FONTSIZE=\"121\" />\r\n",
      "    </Styles>\r\n",
      "    <Layout>\r\n",
      "        <Page ID=\"Page1\" PHYSICAL_IMG_NR=\"1\" HEIGHT=\"6051\" WIDTH=\"4214\">\r\n",
      "            <TopMargin HEIGHT=\"227\" WIDTH=\"4214\" VPOS=\"0\" HPOS=\"0\">\r\n",
      "            </TopMargin>\r\n",
      "            <LeftMargin HEIGHT=\"5251\" WIDTH=\"224\" VPOS=\"227\" HPOS=\"0\">\r\n",
      "            </LeftMargin>\r\n",
      "            <RightMargin HEIGHT=\"5251\" WIDTH=\"586\" VPOS=\"227\" HPOS=\"3628\">\r\n",
      "            </RightMargin>\r\n",
      "            <BottomMargin HEIGHT=\"573\" WIDTH=\"4214\" VPOS=\"5478\" HPOS=\"0\">\r\n",
      "            </BottomMargin>\r\n",
      "            <PrintSpace HEIGHT=\"5251\" WIDTH=\"3404\" VPOS=\"227\" HPOS=\"224\">\r\n",
      "                <ComposedBlock ID=\"Page1_Block1\" HEIGHT=\"859\" WIDTH=\"3286\" VPOS=\"227\" HPOS=\"224\" TYPE=\"container\">\r\n",
      "                    <Shape>\r\n",
      "                        <Polygon POINTS=\"378,252 3648,252 3648,1092 378,1092 378,252\" />\r\n",
      "                    </Shape>\r\n",
      "                    <TextBlock ID=\"Page1_Block2\" HEIGHT=\"530\" WIDTH=\"656\" VPOS=\"448\" HPOS=\"224\" language=\"de\" STYLEREFS=\"font1\">\r\n",
      "                        <Shape>\r\n",
      "                            <Polygon POINTS=\"378,472 1020,472 1020,984 378,984 378,472\" />\r\n",
      "                        </Shape>\r\n",
      "                        <TextLine HEIGHT=\"86\" WIDTH=\"611\" VPOS=\"466\" HPOS=\"242\" STYLEREFS=\"font6\">\r\n",
      "                            <String STYLE=\"bold italics\" STYLEREFS=\"font5\" WC=\"0.2700000107\" CONTENT=\"M\" HEIGHT=\"61\" WIDTH=\"69\" VPOS=\"487\" HPOS=\"242\" />\r\n",
      "                            <SP WIDTH=\"27\" VPOS=\"484\" HPOS=\"311\" />\r\n",
      "                            <String STYLE=\"bold italics\" STYLEREFS=\"font5\" WC=\"0.3766666651\" CONTENT=\"Ti.\" HEIGHT=\"62\" WIDTH=\"81\" VPOS=\"482\" HPOS=\"338\" />\r\n",
      "                            <SP WIDTH=\"85\" VPOS=\"475\" HPOS=\"419\" />\r\n",
      "                            <String WC=\"0.4316666722\" CONTENT=\"Erstes\" HEIGHT=\"74\" WIDTH=\"165\" VPOS=\"471\" HPOS=\"504\" />\r\n",
      "                            <SP WIDTH=\"22\" VPOS=\"470\" HPOS=\"668\" />\r\n",
      "                            <String WC=\"0.646666646\" CONTENT=\"Blatt.\" HEIGHT=\"64\" WIDTH=\"164\" VPOS=\"466\" HPOS=\"689\" />\r\n",
      "                        </TextLine>\r\n",
      "                        <TextLine HEIGHT=\"63\" WIDTH=\"414\" VPOS=\"571\" HPOS=\"326\" STYLEREFS=\"font3\">\r\n",
      "                            <String STYLE=\"italics\" WC=\"7.00000003e-002\" CONTENT=\"%\" HEIGHT=\"41\" WIDTH=\"25\" VPOS=\"589\" HPOS=\"327\" />\r\n",
      "                            <SP WIDTH=\"19\" VPOS=\"587\" HPOS=\"352\" />\r\n",
      "                            <String STYLE=\"bold\" WC=\"0.3577777743\" CONTENT=\"ifustcuj,\" HEIGHT=\"50\" WIDTH=\"153\" VPOS=\"583\" HPOS=\"371\" />\r\n",
      "                            <SP WIDTH=\"30\" VPOS=\"576\" HPOS=\"523\" />\r\n",
      "                            <String STYLE=\"bold\" WC=\"0.7950000167\" CONTENT=\"1.\" HEIGHT=\"45\" WIDTH=\"32\" VPOS=\"575\" HPOS=\"552\" />\r\n",
      "                            <SP WIDTH=\"28\" VPOS=\"574\" HPOS=\"583\" />\r\n",
      "                            <String STYLE=\"bold\" WC=\"0.5249999762\" CONTENT=\"Avril.\" HEIGHT=\"51\" WIDTH=\"130\" VPOS=\"571\" HPOS=\"610\" />\r\n",
      "                        </TextLine>\r\n",
      "                        <TextLine HEIGHT=\"49\" WIDTH=\"601\" VPOS=\"625\" HPOS=\"250\">\r\n",
      "                            <String WC=\"0.3966666758\" CONTENT=\"Die\" HEIGHT=\"28\" WIDTH=\"45\" VPOS=\"643\" HPOS=\"250\" />\r\n",
      "                            <SP WIDTH=\"18\" VPOS=\"651\" HPOS=\"295\" />\r\n",
      "                            <String WC=\"0.3799999952\" CONTENT=\"..?•\" HEIGHT=\"27\" WIDTH=\"34\" VPOS=\"644\" HPOS=\"313\" />\r\n",
      "                            <SP WIDTH=\"25\" VPOS=\"643\" HPOS=\"347\" />\r\n",
      "                            <String WC=\"0.425999999\" CONTENT=\"W-Zeitung&quot;\" HEIGHT=\"34\" WIDTH=\"144\" VPOS=\"637\" HPOS=\"372\" />\r\n",
      "                            <SP WIDTH=\"17\" VPOS=\"640\" HPOS=\"516\" />\r\n",
      "                            <String WC=\"0.5188888907\" CONTENT=\"erscheint\" HEIGHT=\"31\" WIDTH=\"95\" VPOS=\"633\" HPOS=\"533\" />\r\n",
      "                            <SP WIDTH=\"16\" VPOS=\"635\" HPOS=\"628\" />\r\n",
      "                            <String WC=\"0.39142856\" CONTENT=\"täglich\" HEIGHT=\"30\" WIDTH=\"74\" VPOS=\"630\" HPOS=\"644\" />\r\n",
      "                            <SP WIDTH=\"16\" VPOS=\"630\" HPOS=\"718\" />\r\n",
      "                            <String WC=\"0.3100000024\" CONTENT=\"zwei\" HEIGHT=\"29\" WIDTH=\"50\" VPOS=\"628\" HPOS=\"734\" />\r\n",
      "                            <SP WIDTH=\"15\" VPOS=\"626\" HPOS=\"784\" />\r\n",
      "                            <String WC=\"0.2566666603\" CONTENT=\"Mal\" HEIGHT=\"26\" WIDTH=\"50\" VPOS=\"625\" HPOS=\"800\" />\r\n",
      "                        </TextLine>\r\n",
      "                        <TextLine HEIGHT=\"48\" WIDTH=\"476\" VPOS=\"658\" HPOS=\"315\">\r\n",
      "                            <String STYLE=\"bold\" STYLEREFS=\"font2\" WC=\"1.\" CONTENT=\"—\" HEIGHT=\"7\" WIDTH=\"31\" VPOS=\"687\" HPOS=\"315\" />\r\n",
      "                            <SP WIDTH=\"19\" VPOS=\"671\" HPOS=\"347\" />\r\n",
      "                            <String STYLE=\"bold\" STYLEREFS=\"font2\" WC=\"0.5771428347\" CONTENT=\"Morgens\" HEIGHT=\"38\" WIDTH=\"155\" VPOS=\"667\" HPOS=\"366\" />\r\n",
      "                            <SP WIDTH=\"18\" VPOS=\"668\" HPOS=\"521\" />\r\n",
      "                            <String STYLE=\"bold\" STYLEREFS=\"font2\" WC=\"0.2833333313\" CONTENT=\"und\" HEIGHT=\"26\" WIDTH=\"58\" VPOS=\"666\" HPOS=\"539\" />\r\n",
      "                            <SP WIDTH=\"18\" VPOS=\"663\" HPOS=\"598\" />\r\n",
      "                            <String STYLE=\"bold\" STYLEREFS=\"font2\" WC=\"0.401666671\" CONTENT=\"Abend»\" HEIGHT=\"30\" WIDTH=\"123\" VPOS=\"660\" HPOS=\"617\" />\r\n",
      "                            <SP WIDTH=\"17\" VPOS=\"665\" HPOS=\"741\" />\r\n",
      "                            <String STYLE=\"bold\" STYLEREFS=\"font2\" WC=\"1.\" CONTENT=\"—\" HEIGHT=\"8\" WIDTH=\"31\" VPOS=\"670\" HPOS=\"759\" />\r\n",
      "                        </TextLine>\r\n",
      "                        <TextLine HEIGHT=\"48\" WIDTH=\"601\" VPOS=\"690\" HPOS=\"253\">\r\n",
      "                            <String WC=\"0.4774999917\" CONTENT=\"■tit\" HEIGHT=\"27\" WIDTH=\"40\" VPOS=\"710\" HPOS=\"253\" />\r\n",
      "                            <SP WIDTH=\"8\" VPOS=\"709\" HPOS=\"293\" />\r\n",
      "                            <String WC=\"0.375\" CONTENT=\"Ausnahme\" HEIGHT=\"30\" WIDTH=\"124\" VPOS=\"706\" HPOS=\"301\" />\r\n",
      "                            <SP WIDTH=\"6\" VPOS=\"707\" HPOS=\"425\" />\r\n",
      "                            <String WC=\"0.5533333421\" CONTENT=\"der\" HEIGHT=\"22\" WIDTH=\"35\" VPOS=\"706\" HPOS=\"432\" />\r\n",
      "                            <SP WIDTH=\"7\" VPOS=\"703\" HPOS=\"468\" />\r\n",
      "                            <String WC=\"0.2725000083\" CONTENT=\"Tage\" HEIGHT=\"30\" WIDTH=\"58\" VPOS=\"702\" HPOS=\"476\" />\r\n",
      "                            <SP WIDTH=\"8\" VPOS=\"707\" HPOS=\"534\" />\r\n",
      "                            <String WC=\"0.275000006\" CONTENT=\"nach\" HEIGHT=\"27\" WIDTH=\"48\" VPOS=\"699\" HPOS=\"543\" />\r\n",
      "                            <SP WIDTH=\"9\" VPOS=\"699\" HPOS=\"592\" />\r\n"
     ]
    }
   ],
   "source": [
    "# prefixing a code cell's content with `!`\n",
    "# tells jupyter to execute it as a bash shell command\n",
    "# Here we use the command `head` to peek at the first 100 lines\n",
    "# of our XML file.\n",
    "\n",
    "!head -n 100 ../data/altoxml/27971740_1890-04-01_38_077_0_001.xml"
   ]
  },
  {
   "cell_type": "code",
   "execution_count": 14,
   "metadata": {},
   "outputs": [],
   "source": [
    "with open(xml_files[0], 'r') as inpfile:\n",
    "    xml_doc = BeautifulSoup(inpfile)"
   ]
  },
  {
   "cell_type": "code",
   "execution_count": 20,
   "metadata": {},
   "outputs": [],
   "source": [
    "textline_elements = xml_doc.find_all('textline')"
   ]
  },
  {
   "cell_type": "code",
   "execution_count": 26,
   "metadata": {},
   "outputs": [],
   "source": [
    "x = textline_elements[0].get('vpos')\n",
    "y = textline_elements[0].get('hpos')\n",
    "w = textline_elements[0].get('width')\n",
    "h = textline_elements[0].get('height')"
   ]
  },
  {
   "cell_type": "code",
   "execution_count": 27,
   "metadata": {},
   "outputs": [
    {
     "name": "stdout",
     "output_type": "stream",
     "text": [
      "The coordinates of the first line are : 466 (x), 242 (y), 86 (height), 611 (width)\n"
     ]
    }
   ],
   "source": [
    "print(\n",
    "    f'The coordinates of the first line are : {x} (x), {y} (y), {h} (height), {w} (width)'\n",
    ")"
   ]
  },
  {
   "cell_type": "markdown",
   "metadata": {},
   "source": [
    "- how to find elements by ID\n",
    "- how to get the value of an attribute\n",
    "- children, parents, etc."
   ]
  },
  {
   "cell_type": "markdown",
   "metadata": {},
   "source": [
    "### From XML to Dataframe\n",
    "\n",
    "Let's now try to put all these things together to solve a real problem that you have already encountered, i.e. **turning a bunch XML files into processable text**. Why this can be useful ?"
   ]
  },
  {
   "cell_type": "code",
   "execution_count": 29,
   "metadata": {},
   "outputs": [],
   "source": [
    "def parse_alto(filepath):\n",
    "    \"\"\"Convert each file to: fulltext (list of lines), wordcount, filename (id)\"\"\"\n",
    "    pass"
   ]
  },
  {
   "cell_type": "markdown",
   "metadata": {},
   "source": [
    "## JSON"
   ]
  },
  {
   "cell_type": "code",
   "execution_count": null,
   "metadata": {},
   "outputs": [],
   "source": []
  }
 ],
 "metadata": {
  "kernelspec": {
   "display_name": "Python 3",
   "language": "python",
   "name": "python3"
  },
  "language_info": {
   "codemirror_mode": {
    "name": "ipython",
    "version": 3
   },
   "file_extension": ".py",
   "mimetype": "text/x-python",
   "name": "python",
   "nbconvert_exporter": "python",
   "pygments_lexer": "ipython3",
   "version": "3.6.0"
  },
  "toc": {
   "nav_menu": {},
   "number_sections": false,
   "sideBar": true,
   "skip_h1_title": false,
   "title_cell": "Table of Contents",
   "title_sidebar": "Contents",
   "toc_cell": false,
   "toc_position": {},
   "toc_section_display": true,
   "toc_window_display": true
  }
 },
 "nbformat": 4,
 "nbformat_minor": 2
}
